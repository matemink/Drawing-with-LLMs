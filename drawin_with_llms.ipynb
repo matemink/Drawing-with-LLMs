{
 "cells": [
  {
   "cell_type": "code",
   "execution_count": 1,
   "id": "3acab3bf",
   "metadata": {
    "execution": {
     "iopub.execute_input": "2025-04-21T20:06:50.401960Z",
     "iopub.status.busy": "2025-04-21T20:06:50.401652Z",
     "iopub.status.idle": "2025-04-21T20:06:50.406005Z",
     "shell.execute_reply": "2025-04-21T20:06:50.405101Z"
    },
    "papermill": {
     "duration": 0.009856,
     "end_time": "2025-04-21T20:06:50.407531",
     "exception": false,
     "start_time": "2025-04-21T20:06:50.397675",
     "status": "completed"
    },
    "tags": []
   },
   "outputs": [],
   "source": [
    "#| default_exp core"
   ]
  },
  {
   "cell_type": "code",
   "execution_count": 2,
   "id": "afb9e42e",
   "metadata": {
    "execution": {
     "iopub.execute_input": "2025-04-21T20:06:50.412737Z",
     "iopub.status.busy": "2025-04-21T20:06:50.412507Z",
     "iopub.status.idle": "2025-04-21T20:07:12.549470Z",
     "shell.execute_reply": "2025-04-21T20:07:12.548508Z"
    },
    "papermill": {
     "duration": 22.141182,
     "end_time": "2025-04-21T20:07:12.551148",
     "exception": false,
     "start_time": "2025-04-21T20:06:50.409966",
     "status": "completed"
    },
    "tags": []
   },
   "outputs": [],
   "source": [
    "#| export\n",
    "import concurrent\n",
    "import io\n",
    "import logging\n",
    "import re\n",
    "import re2\n",
    "\n",
    "import cairosvg\n",
    "import kagglehub\n",
    "import torch\n",
    "from lxml import etree\n",
    "from transformers import AutoTokenizer, AutoModelForCausalLM, BitsAndBytesConfig\n",
    "from transformers.models.gemma3 import Gemma3ForConditionalGeneration, Gemma3Processor, Gemma3ForCausalLM\n",
    "\n",
    "svg_constraints = kagglehub.package_import('metric/svg-constraints')\n",
    "\n",
    "DEVICE = torch.device(\"cuda:0\" if torch.cuda.is_available() else \"cpu\")\n",
    "\n",
    "\n",
    "class Model:\n",
    "    def __init__(self):\n",
    "         # Quantization Configuration\n",
    "        quantization_config = BitsAndBytesConfig(\n",
    "            load_in_4bit=True,\n",
    "            bnb_4bit_quant_type=\"nf4\",\n",
    "            bnb_4bit_use_double_quant=True,\n",
    "            bnb_4bit_compute_dtype=torch.bfloat16,\n",
    "        )\n",
    "\n",
    "        self.model_path = kagglehub.model_download(\"google/gemma-3/transformers/gemma-3-12b-it\")\n",
    "        self.processor = Gemma3Processor.from_pretrained(self.model_path, use_fast=True)\n",
    "        self.model = Gemma3ForConditionalGeneration.from_pretrained(self.model_path, \n",
    "                                                                    quantization_config=quantization_config,\n",
    "                                                                    torch_dtype=torch.bfloat16, \n",
    "                                                                    device_map=\"auto\",)\n",
    "        \n",
    "\n",
    "        self.prompt_template = \"\"\"Generate SVG code to visually represent the following text description, while respecting the given constraints and guidelines.\n",
    "\n",
    "<constraints>\n",
    "* **Allowed Elements:** `svg`, `path`, `circle`, `rect`, `ellipse`, `line`, `polyline`, `polygon`, `g`, `linearGradient`, `radialGradient`, `stop`, `defs`\n",
    "* **Allowed Attributes:** `viewBox`, `width`, `height`, `fill`, `stroke`, `stroke-width`, `d`, `cx`, `cy`, `r`, `x`, `y`, `rx`, `ry`, `x1`, `y1`, `x2`, `y2`, `points`, `transform`, `opacity`\n",
    "* **Output Format:** Always use viewBox=\"0 0 256 256\" with width=\"256\" height=\"256\"\n",
    "</constraints>\n",
    "\n",
    "<example>\n",
    "<description>\"A red circle with a blue square inside\"</description>\n",
    "```svg\n",
    "<svg viewBox=\"0 0 256 256\" width=\"256\" height=\"256\">\n",
    "  <circle cx=\"128\" cy=\"128\" r=\"80\" fill=\"red\"/>\n",
    "  <rect x=\"88\" y=\"88\" width=\"80\" height=\"80\" fill=\"blue\"/>\n",
    "</svg>\n",
    "```\n",
    "</example>\n",
    "\n",
    "Please ensure that the generated SVG code is well-formed, valid, and strictly adheres to these constraints. Focus on a clear and concise representation of the input description within the given limitations. Always give the complete SVG code with nothing omitted. Never use an ellipsis.\n",
    "\n",
    "<description>\"{}\"</description>\n",
    "```svg\n",
    "<svg viewBox=\"0 0 256 256\" width=\"256\" height=\"256\">\n",
    "\"\"\"\n",
    "        self.default_svg = \"\"\"<svg width=\"256\" height=\"256\" viewBox=\"0 0 256 256\"><circle cx=\"50\" cy=\"50\" r=\"40\" fill=\"red\" /></svg>\"\"\"\n",
    "        self.constraints = svg_constraints.SVGConstraints()\n",
    "        self.timeout_seconds = 200 #90\n",
    "\n",
    "    # You could try increasing `max_new_tokens`\n",
    "    def predict(self, description: str, max_new_tokens=512) -> str:\n",
    "        def generate_svg():\n",
    "            try:\n",
    "                prompt = self.prompt_template.format(description)\n",
    "                # inputs = self.tokenizer(text=prompt, return_tensors=\"pt\" , add_bos=True).to(DEVICE)\n",
    "                inputs = self.processor(text=prompt, return_tensors=\"pt\").to(DEVICE)\n",
    "\n",
    "                with torch.no_grad():\n",
    "                    output = self.model.generate(\n",
    "                        **inputs,\n",
    "                        max_new_tokens=max_new_tokens,\n",
    "                        do_sample=True,\n",
    "                        #temperature=0.8,\n",
    "                        #top_p=0.95,  # Add nucleus sampling\n",
    "                    )\n",
    "\n",
    "                output_decoded = self.processor.decode(output[0], \n",
    "                                                       skip_special_tokens=True, \n",
    "                                                       clean_up_tokenization_spaces=False)\n",
    "                logging.debug('Output decoded from model: %s', output_decoded)\n",
    "\n",
    "                matches = re.findall(r\"<svg.*?</svg>\", output_decoded, re.DOTALL | re.IGNORECASE)\n",
    "                if matches:\n",
    "                    svg = matches[-1]\n",
    "                else:\n",
    "                    return self.default_svg\n",
    "\n",
    "                logging.debug('Unprocessed SVG: %s', svg)\n",
    "                svg = self.enforce_constraints(svg)\n",
    "                logging.debug('Processed SVG: %s', svg)\n",
    "                # Ensure the generated code can be converted by cairosvg\n",
    "                cairosvg.svg2png(bytestring=svg.encode('utf-8'))\n",
    "                return svg\n",
    "            except Exception as e:\n",
    "                logging.error('Exception during SVG generation: %s', e)\n",
    "                return self.default_svg\n",
    "\n",
    "        # Execute SVG generation in a new thread to enforce time constraints\n",
    "        with concurrent.futures.ThreadPoolExecutor(max_workers=1) as executor:\n",
    "            future = executor.submit(generate_svg)\n",
    "            try:\n",
    "                return future.result(timeout=self.timeout_seconds)\n",
    "            except concurrent.futures.TimeoutError:\n",
    "                logging.warning(\"Prediction timed out after %s seconds.\", self.timeout_seconds)\n",
    "                return self.default_svg\n",
    "            except Exception as e:\n",
    "                logging.error(f\"An unexpected error occurred: {e}\")\n",
    "                return self.default_svg\n",
    "\n",
    "    def enforce_constraints(self, svg_string: str) -> str:\n",
    "        \"\"\"Enforces constraints on an SVG string, removing disallowed elements\n",
    "        and attributes.\n",
    "\n",
    "        Parameters\n",
    "        ----------\n",
    "        svg_string : str\n",
    "            The SVG string to process.\n",
    "\n",
    "        Returns\n",
    "        -------\n",
    "        str\n",
    "            The processed SVG string, or the default SVG if constraints\n",
    "            cannot be satisfied.\n",
    "        \"\"\"\n",
    "        logging.info('Sanitizing SVG...')\n",
    "\n",
    "        try:\n",
    "            parser = etree.XMLParser(remove_blank_text=True, remove_comments=True)\n",
    "            root = etree.fromstring(svg_string, parser=parser)\n",
    "        except etree.ParseError as e:\n",
    "            logging.error('SVG Parse Error: %s. Returning default SVG.', e)\n",
    "            return self.default_svg\n",
    "    \n",
    "        elements_to_remove = []\n",
    "        for element in root.iter():\n",
    "            tag_name = etree.QName(element.tag).localname\n",
    "    \n",
    "            # Remove disallowed elements\n",
    "            if tag_name not in self.constraints.allowed_elements:\n",
    "                elements_to_remove.append(element)\n",
    "                continue  # Skip attribute checks for removed elements\n",
    "    \n",
    "            # Remove disallowed attributes\n",
    "            attrs_to_remove = []\n",
    "            for attr in element.attrib:\n",
    "                attr_name = etree.QName(attr).localname\n",
    "                if (\n",
    "                    attr_name\n",
    "                    not in self.constraints.allowed_elements[tag_name]\n",
    "                    and attr_name\n",
    "                    not in self.constraints.allowed_elements['common']\n",
    "                ):\n",
    "                    attrs_to_remove.append(attr)\n",
    "    \n",
    "            for attr in attrs_to_remove:\n",
    "                logging.debug(\n",
    "                    'Attribute \"%s\" for element \"%s\" not allowed. Removing.',\n",
    "                    attr,\n",
    "                    tag_name,\n",
    "                )\n",
    "                del element.attrib[attr]\n",
    "    \n",
    "            # Check and remove invalid href attributes\n",
    "            for attr, value in element.attrib.items():\n",
    "                 if etree.QName(attr).localname == 'href' and not value.startswith('#'):\n",
    "                    logging.debug(\n",
    "                        'Removing invalid href attribute in element \"%s\".', tag_name\n",
    "                    )\n",
    "                    del element.attrib[attr]\n",
    "\n",
    "            # Validate path elements to help ensure SVG conversion\n",
    "            if tag_name == 'path':\n",
    "                d_attribute = element.get('d')\n",
    "                if not d_attribute:\n",
    "                    logging.warning('Path element is missing \"d\" attribute. Removing path.')\n",
    "                    elements_to_remove.append(element)\n",
    "                    continue # Skip further checks for this removed element\n",
    "                # Use regex to validate 'd' attribute format\n",
    "                path_regex = re2.compile(\n",
    "                    r'^'  # Start of string\n",
    "                    r'(?:'  # Non-capturing group for each command + numbers block\n",
    "                    r'[MmZzLlHhVvCcSsQqTtAa]'  # Valid SVG path commands (adjusted to exclude extra letters)\n",
    "                    r'\\s*'  # Optional whitespace after command\n",
    "                    r'(?:'  # Non-capturing group for optional numbers\n",
    "                    r'-?\\d+(?:\\.\\d+)?(?:[Ee][+-]?\\d+)?'  # First number\n",
    "                    r'(?:[\\s,]+-?\\d+(?:\\.\\d+)?(?:[Ee][+-]?\\d+)?)*'  # Subsequent numbers with mandatory separator(s)\n",
    "                    r')?'  # Numbers are optional (e.g. for Z command)\n",
    "                    r'\\s*'  # Optional whitespace after numbers/command block\n",
    "                    r')+'  # One or more command blocks\n",
    "                    r'\\s*'  # Optional trailing whitespace\n",
    "                    r'$'  # End of string\n",
    "                )\n",
    "                if not path_regex.match(d_attribute):\n",
    "                    logging.warning(\n",
    "                        'Path element has malformed \"d\" attribute format. Removing path.'\n",
    "                    )\n",
    "                    elements_to_remove.append(element)\n",
    "                    continue\n",
    "                logging.debug('Path element \"d\" attribute validated (regex check).')\n",
    "        \n",
    "        # Remove elements marked for removal\n",
    "        for element in elements_to_remove:\n",
    "            if element.getparent() is not None:\n",
    "                element.getparent().remove(element)\n",
    "                logging.debug('Removed element: %s', element.tag)\n",
    "\n",
    "        try:\n",
    "            cleaned_svg_string = etree.tostring(root, encoding='unicode')\n",
    "            return cleaned_svg_string\n",
    "        except ValueError as e:\n",
    "            logging.error(\n",
    "                'SVG could not be sanitized to meet constraints: %s', e\n",
    "            )\n",
    "            return self.default_svg"
   ]
  },
  {
   "cell_type": "markdown",
   "id": "a378bc6d",
   "metadata": {
    "papermill": {
     "duration": 0.001699,
     "end_time": "2025-04-21T20:07:12.555085",
     "exception": false,
     "start_time": "2025-04-21T20:07:12.553386",
     "status": "completed"
    },
    "tags": []
   },
   "source": [
    "The following code tests the above model in a local mock-up of this competition's evaluation pipeline. It runs the model on a sample of 15 instances defined in the `test.csv` file in the `kaggle_evaluation` package folder."
   ]
  },
  {
   "cell_type": "code",
   "execution_count": 3,
   "id": "1ff69f22",
   "metadata": {
    "execution": {
     "iopub.execute_input": "2025-04-21T20:07:12.559957Z",
     "iopub.status.busy": "2025-04-21T20:07:12.559480Z",
     "iopub.status.idle": "2025-04-21T20:07:13.109804Z",
     "shell.execute_reply": "2025-04-21T20:07:13.108878Z"
    },
    "papermill": {
     "duration": 0.554593,
     "end_time": "2025-04-21T20:07:13.111412",
     "exception": false,
     "start_time": "2025-04-21T20:07:12.556819",
     "status": "completed"
    },
    "tags": []
   },
   "outputs": [],
   "source": [
    "import kaggle_evaluation\n",
    "\n",
    "#logging.basicConfig(level=logging.WARNING, force=True)\n",
    "#kaggle_evaluation.test(Model)"
   ]
  },
  {
   "cell_type": "code",
   "execution_count": 4,
   "id": "82f2967d",
   "metadata": {
    "execution": {
     "iopub.execute_input": "2025-04-21T20:07:13.116200Z",
     "iopub.status.busy": "2025-04-21T20:07:13.115950Z",
     "iopub.status.idle": "2025-04-21T20:22:45.979307Z",
     "shell.execute_reply": "2025-04-21T20:22:45.978249Z"
    },
    "papermill": {
     "duration": 932.868157,
     "end_time": "2025-04-21T20:22:45.981598",
     "exception": false,
     "start_time": "2025-04-21T20:07:13.113441",
     "status": "completed"
    },
    "tags": []
   },
   "outputs": [
    {
     "data": {
      "text/html": [
       "<div><style>\n",
       ".dataframe > thead > tr,\n",
       ".dataframe > tbody > tr {\n",
       "  text-align: right;\n",
       "  white-space: pre-wrap;\n",
       "}\n",
       "</style>\n",
       "<small>shape: (5, 2)</small><table border=\"1\" class=\"dataframe\"><thead><tr><th>id</th><th>description</th></tr><tr><td>str</td><td>str</td></tr></thead><tbody><tr><td>&quot;02d892&quot;</td><td>&quot;a purple forest at dusk&quot;</td></tr><tr><td>&quot;0dcd2e&quot;</td><td>&quot;gray wool coat with a faux fur…</td></tr><tr><td>&quot;1e9ac1&quot;</td><td>&quot;a lighthouse overlooking the o…</td></tr><tr><td>&quot;2b25db&quot;</td><td>&quot;burgundy corduroy pants with p…</td></tr><tr><td>&quot;4e6a54&quot;</td><td>&quot;orange corduroy overalls&quot;</td></tr></tbody></table></div>"
      ],
      "text/plain": [
       "shape: (5, 2)\n",
       "┌────────┬─────────────────────────────────┐\n",
       "│ id     ┆ description                     │\n",
       "│ ---    ┆ ---                             │\n",
       "│ str    ┆ str                             │\n",
       "╞════════╪═════════════════════════════════╡\n",
       "│ 02d892 ┆ a purple forest at dusk         │\n",
       "│ 0dcd2e ┆ gray wool coat with a faux fur… │\n",
       "│ 1e9ac1 ┆ a lighthouse overlooking the o… │\n",
       "│ 2b25db ┆ burgundy corduroy pants with p… │\n",
       "│ 4e6a54 ┆ orange corduroy overalls        │\n",
       "└────────┴─────────────────────────────────┘"
      ]
     },
     "metadata": {},
     "output_type": "display_data"
    },
    {
     "data": {
      "application/vnd.jupyter.widget-view+json": {
       "model_id": "8e749aef85b44cc298d90703c7c02091",
       "version_major": 2,
       "version_minor": 0
      },
      "text/plain": [
       "Loading checkpoint shards:   0%|          | 0/5 [00:00<?, ?it/s]"
      ]
     },
     "metadata": {},
     "output_type": "display_data"
    },
    {
     "name": "stdout",
     "output_type": "stream",
     "text": [
      "Prediction time for description 'a purple forest at d...': 39.0153 seconds\n",
      "<svg viewBox=\"0 0 256 256\" width=\"256\" height=\"256\"><defs><linearGradient id=\"forestGradient\" x1=\"0%\" y1=\"0%\" x2=\"100%\" y2=\"100%\"><stop offset=\"0%\" stop-color=\"#800080\"/><stop offset=\"50%\" stop-color=\"#400040\"/><stop offset=\"100%\" stop-color=\"#200020\"/></linearGradient></defs><polygon points=\"0,256 128,0 256,256\" fill=\"url(#forestGradient)\"/><polyline points=\"0,128 128,0 256,128\" stroke=\"black\" stroke-width=\"2\"/></svg>\n"
     ]
    },
    {
     "data": {
      "image/svg+xml": [
       "<svg viewBox=\"0 0 256 256\" width=\"256\" height=\"256\"><defs><linearGradient id=\"forestGradient\" x1=\"0%\" y1=\"0%\" x2=\"100%\" y2=\"100%\"><stop offset=\"0%\" stop-color=\"#800080\"/><stop offset=\"50%\" stop-color=\"#400040\"/><stop offset=\"100%\" stop-color=\"#200020\"/></linearGradient></defs><polygon points=\"0,256 128,0 256,256\" fill=\"url(#forestGradient)\"/><polyline points=\"0,128 128,0 256,128\" stroke=\"black\" stroke-width=\"2\"/></svg>"
      ],
      "text/plain": [
       "<IPython.core.display.SVG object>"
      ]
     },
     "metadata": {},
     "output_type": "display_data"
    },
    {
     "name": "stdout",
     "output_type": "stream",
     "text": [
      "Prediction time for description 'gray wool coat with ...': 18.1072 seconds\n",
      "<svg viewBox=\"0 0 256 256\" width=\"256\" height=\"256\"><rect x=\"50\" y=\"50\" width=\"156\" height=\"156\" fill=\"#808080\"/><ellipse cx=\"128\" cy=\"50\" rx=\"40\" ry=\"20\" fill=\"#D3D3D3\"/></svg>\n"
     ]
    },
    {
     "data": {
      "image/svg+xml": [
       "<svg viewBox=\"0 0 256 256\" width=\"256\" height=\"256\"><rect x=\"50\" y=\"50\" width=\"156\" height=\"156\" fill=\"#808080\"/><ellipse cx=\"128\" cy=\"50\" rx=\"40\" ry=\"20\" fill=\"#D3D3D3\"/></svg>"
      ],
      "text/plain": [
       "<IPython.core.display.SVG object>"
      ]
     },
     "metadata": {},
     "output_type": "display_data"
    },
    {
     "name": "stdout",
     "output_type": "stream",
     "text": [
      "Prediction time for description 'a lighthouse overloo...': 22.2525 seconds\n",
      "<svg viewBox=\"0 0 256 256\" width=\"256\" height=\"256\"><rect x=\"0\" y=\"128\" width=\"256\" height=\"128\" fill=\"blue\"/><rect x=\"128\" y=\"0\" width=\"64\" height=\"128\" fill=\"gray\"/><path d=\"M 128 80 L 160 160 L 96 160 Z\" fill=\"white\"/></svg>\n"
     ]
    },
    {
     "data": {
      "image/svg+xml": [
       "<svg viewBox=\"0 0 256 256\" width=\"256\" height=\"256\"><rect x=\"0\" y=\"128\" width=\"256\" height=\"128\" fill=\"blue\"/><rect x=\"128\" y=\"0\" width=\"64\" height=\"128\" fill=\"gray\"/><path d=\"M 128 80 L 160 160 L 96 160 Z\" fill=\"white\"/></svg>"
      ],
      "text/plain": [
       "<IPython.core.display.SVG object>"
      ]
     },
     "metadata": {},
     "output_type": "display_data"
    },
    {
     "name": "stdout",
     "output_type": "stream",
     "text": [
      "Prediction time for description 'burgundy corduroy pa...': 80.7797 seconds\n",
      "<svg viewBox=\"0 0 256 256\" width=\"256\" height=\"256\"><rect x=\"20\" y=\"50\" width=\"216\" height=\"180\" fill=\"#800020\" stroke=\"#800020\" stroke-width=\"5\"/><polygon points=\"20,50 25,45 30,50 25,55\" fill=\"#800020\" stroke=\"#800020\" stroke-width=\"5\"/><polygon points=\"240,50 235,45 230,50 235,55\" fill=\"#800020\" stroke=\"#800020\" stroke-width=\"5\"/><polygon points=\"20,180 25,175 30,180 25,185\" fill=\"#800020\" stroke=\"#800020\" stroke-width=\"5\"/><polygon points=\"240,180 235,175 230,180 235,185\" fill=\"#800020\" stroke=\"#800020\" stroke-width=\"5\"/><rect x=\"70\" y=\"100\" width=\"30\" height=\"60\" fill=\"#C0C0C0\" stroke=\"#C0C0C0\" stroke-width=\"2\"/><rect x=\"160\" y=\"100\" width=\"30\" height=\"60\" fill=\"#C0C0C0\" stroke=\"#C0C0C0\" stroke-width=\"2\"/><circle cx=\"128\" cy=\"120\" r=\"8\" fill=\"#C0C0C0\"/><circle cx=\"128\" cy=\"160\" r=\"8\" fill=\"#C0C0C0\"/></svg>\n"
     ]
    },
    {
     "data": {
      "image/svg+xml": [
       "<svg viewBox=\"0 0 256 256\" width=\"256\" height=\"256\"><rect x=\"20\" y=\"50\" width=\"216\" height=\"180\" fill=\"#800020\" stroke=\"#800020\" stroke-width=\"5\"/><polygon points=\"20,50 25,45 30,50 25,55\" fill=\"#800020\" stroke=\"#800020\" stroke-width=\"5\"/><polygon points=\"240,50 235,45 230,50 235,55\" fill=\"#800020\" stroke=\"#800020\" stroke-width=\"5\"/><polygon points=\"20,180 25,175 30,180 25,185\" fill=\"#800020\" stroke=\"#800020\" stroke-width=\"5\"/><polygon points=\"240,180 235,175 230,180 235,185\" fill=\"#800020\" stroke=\"#800020\" stroke-width=\"5\"/><rect x=\"70\" y=\"100\" width=\"30\" height=\"60\" fill=\"#C0C0C0\" stroke=\"#C0C0C0\" stroke-width=\"2\"/><rect x=\"160\" y=\"100\" width=\"30\" height=\"60\" fill=\"#C0C0C0\" stroke=\"#C0C0C0\" stroke-width=\"2\"/><circle cx=\"128\" cy=\"120\" r=\"8\" fill=\"#C0C0C0\"/><circle cx=\"128\" cy=\"160\" r=\"8\" fill=\"#C0C0C0\"/></svg>"
      ],
      "text/plain": [
       "<IPython.core.display.SVG object>"
      ]
     },
     "metadata": {},
     "output_type": "display_data"
    },
    {
     "name": "stdout",
     "output_type": "stream",
     "text": [
      "Prediction time for description 'orange corduroy over...': 50.9820 seconds\n",
      "<svg viewBox=\"0 0 256 256\" width=\"256\" height=\"256\"><rect x=\"40\" y=\"80\" width=\"180\" height=\"160\" fill=\"orange\" stroke=\"black\" stroke-width=\"2\"/><polyline points=\"40,80 40,100 196,100 196,80\" fill=\"none\" stroke=\"black\" stroke-width=\"2\"/><polyline points=\"40,120 40,140 196,140 196,120\" fill=\"none\" stroke=\"black\" stroke-width=\"2\"/><polyline points=\"40,160 40,180 196,180 196,160\" fill=\"none\" stroke=\"black\" stroke-width=\"2\"/><polyline points=\"40,200 40,220 196,220 196,200\" fill=\"none\" stroke=\"black\" stroke-width=\"2\"/><rect x=\"80\" y=\"60\" width=\"80\" height=\"20\" fill=\"orange\"/></svg>\n"
     ]
    },
    {
     "data": {
      "image/svg+xml": [
       "<svg viewBox=\"0 0 256 256\" width=\"256\" height=\"256\"><rect x=\"40\" y=\"80\" width=\"180\" height=\"160\" fill=\"orange\" stroke=\"black\" stroke-width=\"2\"/><polyline points=\"40,80 40,100 196,100 196,80\" fill=\"none\" stroke=\"black\" stroke-width=\"2\"/><polyline points=\"40,120 40,140 196,140 196,120\" fill=\"none\" stroke=\"black\" stroke-width=\"2\"/><polyline points=\"40,160 40,180 196,180 196,160\" fill=\"none\" stroke=\"black\" stroke-width=\"2\"/><polyline points=\"40,200 40,220 196,220 196,200\" fill=\"none\" stroke=\"black\" stroke-width=\"2\"/><rect x=\"80\" y=\"60\" width=\"80\" height=\"20\" fill=\"orange\"/></svg>"
      ],
      "text/plain": [
       "<IPython.core.display.SVG object>"
      ]
     },
     "metadata": {},
     "output_type": "display_data"
    },
    {
     "name": "stdout",
     "output_type": "stream",
     "text": [
      "Prediction time for description 'a purple silk scarf ...': 29.4288 seconds\n",
      "<svg viewBox=\"0 0 256 256\" width=\"256\" height=\"256\"><path d=\"M16 128 C32 64, 224 64, 232 128 C240 192, 32 192, 16 128 Z\" fill=\"purple\" stroke=\"purple\" stroke-width=\"8\"/><polyline points=\"232 128, 240 136, 232 144, 224 136, 216 144\" fill=\"gold\" stroke=\"gold\" stroke-width=\"4\"/></svg>\n"
     ]
    },
    {
     "data": {
      "image/svg+xml": [
       "<svg viewBox=\"0 0 256 256\" width=\"256\" height=\"256\"><path d=\"M16 128 C32 64, 224 64, 232 128 C240 192, 32 192, 16 128 Z\" fill=\"purple\" stroke=\"purple\" stroke-width=\"8\"/><polyline points=\"232 128, 240 136, 232 144, 224 136, 216 144\" fill=\"gold\" stroke=\"gold\" stroke-width=\"4\"/></svg>"
      ],
      "text/plain": [
       "<IPython.core.display.SVG object>"
      ]
     },
     "metadata": {},
     "output_type": "display_data"
    },
    {
     "name": "stdout",
     "output_type": "stream",
     "text": [
      "Prediction time for description 'a green lagoon under...': 25.2775 seconds\n",
      "<svg viewBox=\"0 0 256 256\" width=\"256\" height=\"256\"><rect x=\"0\" y=\"128\" width=\"256\" height=\"128\" fill=\"green\"/><g><ellipse cx=\"128\" cy=\"64\" rx=\"80\" ry=\"32\" fill=\"gray\"/><circle cx=\"80\" cy=\"32\" r=\"12\" fill=\"white\"/><circle cx=\"176\" cy=\"32\" r=\"16\" fill=\"white\"/></g></svg>\n"
     ]
    },
    {
     "data": {
      "image/svg+xml": [
       "<svg viewBox=\"0 0 256 256\" width=\"256\" height=\"256\"><rect x=\"0\" y=\"128\" width=\"256\" height=\"128\" fill=\"green\"/><g><ellipse cx=\"128\" cy=\"64\" rx=\"80\" ry=\"32\" fill=\"gray\"/><circle cx=\"80\" cy=\"32\" r=\"12\" fill=\"white\"/><circle cx=\"176\" cy=\"32\" r=\"16\" fill=\"white\"/></g></svg>"
      ],
      "text/plain": [
       "<IPython.core.display.SVG object>"
      ]
     },
     "metadata": {},
     "output_type": "display_data"
    },
    {
     "name": "stdout",
     "output_type": "stream",
     "text": [
      "Prediction time for description 'crimson rectangles f...': 91.9708 seconds\n",
      "<svg viewBox=\"0 0 256 256\" width=\"256\" height=\"256\"><circle cx=\"128\" cy=\"128\" r=\"80\" fill=\"red\"/><rect x=\"88\" y=\"88\" width=\"80\" height=\"80\" fill=\"blue\"/></svg>\n"
     ]
    },
    {
     "data": {
      "image/svg+xml": [
       "<svg viewBox=\"0 0 256 256\" width=\"256\" height=\"256\"><circle cx=\"128\" cy=\"128\" r=\"80\" fill=\"red\"/><rect x=\"88\" y=\"88\" width=\"80\" height=\"80\" fill=\"blue\"/></svg>"
      ],
      "text/plain": [
       "<IPython.core.display.SVG object>"
      ]
     },
     "metadata": {},
     "output_type": "display_data"
    },
    {
     "name": "stdout",
     "output_type": "stream",
     "text": [
      "Prediction time for description 'purple pyramids spir...': 92.1654 seconds\n",
      "<svg viewBox=\"0 0 256 256\" width=\"256\" height=\"256\"><circle cx=\"128\" cy=\"128\" r=\"80\" fill=\"red\"/><rect x=\"88\" y=\"88\" width=\"80\" height=\"80\" fill=\"blue\"/></svg>\n"
     ]
    },
    {
     "data": {
      "image/svg+xml": [
       "<svg viewBox=\"0 0 256 256\" width=\"256\" height=\"256\"><circle cx=\"128\" cy=\"128\" r=\"80\" fill=\"red\"/><rect x=\"88\" y=\"88\" width=\"80\" height=\"80\" fill=\"blue\"/></svg>"
      ],
      "text/plain": [
       "<IPython.core.display.SVG object>"
      ]
     },
     "metadata": {},
     "output_type": "display_data"
    },
    {
     "name": "stdout",
     "output_type": "stream",
     "text": [
      "Prediction time for description 'magenta trapezoids l...': 30.6993 seconds\n",
      "<svg viewBox=\"0 0 256 256\" width=\"256\" height=\"256\"><rect x=\"0\" y=\"0\" width=\"256\" height=\"256\" fill=\"silver\" opacity=\"0.5\"/><polygon points=\"20,20 150,20 230,150 20,150\" fill=\"magenta\"/><polygon points=\"50,50 180,50 230,180 50,180\" fill=\"magenta\"/><polygon points=\"80,80 200,80 230,200 80,200\" fill=\"magenta\"/></svg>\n"
     ]
    },
    {
     "data": {
      "image/svg+xml": [
       "<svg viewBox=\"0 0 256 256\" width=\"256\" height=\"256\"><rect x=\"0\" y=\"0\" width=\"256\" height=\"256\" fill=\"silver\" opacity=\"0.5\"/><polygon points=\"20,20 150,20 230,150 20,150\" fill=\"magenta\"/><polygon points=\"50,50 180,50 230,180 50,180\" fill=\"magenta\"/><polygon points=\"80,80 200,80 230,200 80,200\" fill=\"magenta\"/></svg>"
      ],
      "text/plain": [
       "<IPython.core.display.SVG object>"
      ]
     },
     "metadata": {},
     "output_type": "display_data"
    },
    {
     "name": "stdout",
     "output_type": "stream",
     "text": [
      "Prediction time for description 'a snowy plain...': 34.4052 seconds\n",
      "<svg viewBox=\"0 0 256 256\" width=\"256\" height=\"256\"><rect x=\"0\" y=\"0\" width=\"256\" height=\"256\" fill=\"#f0f8ff\"/><polyline points=\"0,256 256,256\" stroke=\"white\" stroke-width=\"2\"/><polyline points=\"0,128 256,128\" stroke=\"white\" stroke-width=\"2\"/><polyline points=\"0,64 256,64\" stroke=\"white\" stroke-width=\"2\"/><circle cx=\"128\" cy=\"128\" r=\"10\" fill=\"white\"/><circle cx=\"200\" cy=\"200\" r=\"15\" fill=\"white\"/></svg>\n"
     ]
    },
    {
     "data": {
      "image/svg+xml": [
       "<svg viewBox=\"0 0 256 256\" width=\"256\" height=\"256\"><rect x=\"0\" y=\"0\" width=\"256\" height=\"256\" fill=\"#f0f8ff\"/><polyline points=\"0,256 256,256\" stroke=\"white\" stroke-width=\"2\"/><polyline points=\"0,128 256,128\" stroke=\"white\" stroke-width=\"2\"/><polyline points=\"0,64 256,64\" stroke=\"white\" stroke-width=\"2\"/><circle cx=\"128\" cy=\"128\" r=\"10\" fill=\"white\"/><circle cx=\"200\" cy=\"200\" r=\"15\" fill=\"white\"/></svg>"
      ],
      "text/plain": [
       "<IPython.core.display.SVG object>"
      ]
     },
     "metadata": {},
     "output_type": "display_data"
    },
    {
     "name": "stdout",
     "output_type": "stream",
     "text": [
      "Prediction time for description 'black and white chec...': 57.5546 seconds\n",
      "<svg viewBox=\"0 0 256 256\" width=\"256\" height=\"256\"><rect x=\"0\" y=\"0\" width=\"256\" height=\"256\" fill=\"white\"/><g transform=\"translate(64,64)\"><rect x=\"0\" y=\"0\" width=\"64\" height=\"64\" fill=\"black\"/></g><g transform=\"translate(128,64)\"><rect x=\"0\" y=\"0\" width=\"64\" height=\"64\" fill=\"white\"/></g><g transform=\"translate(64,128)\"><rect x=\"0\" y=\"0\" width=\"64\" height=\"64\" fill=\"black\"/></g><g transform=\"translate(128,128)\"><rect x=\"0\" y=\"0\" width=\"64\" height=\"64\" fill=\"white\"/></g><g transform=\"translate(64,192)\"><rect x=\"0\" y=\"0\" width=\"64\" height=\"64\" fill=\"white\"/></g><g transform=\"translate(128,192)\"><rect x=\"0\" y=\"0\" width=\"64\" height=\"64\" fill=\"black\"/></g></svg>\n"
     ]
    },
    {
     "data": {
      "image/svg+xml": [
       "<svg viewBox=\"0 0 256 256\" width=\"256\" height=\"256\"><rect x=\"0\" y=\"0\" width=\"256\" height=\"256\" fill=\"white\"/><g transform=\"translate(64,64)\"><rect x=\"0\" y=\"0\" width=\"64\" height=\"64\" fill=\"black\"/></g><g transform=\"translate(128,64)\"><rect x=\"0\" y=\"0\" width=\"64\" height=\"64\" fill=\"white\"/></g><g transform=\"translate(64,128)\"><rect x=\"0\" y=\"0\" width=\"64\" height=\"64\" fill=\"black\"/></g><g transform=\"translate(128,128)\"><rect x=\"0\" y=\"0\" width=\"64\" height=\"64\" fill=\"white\"/></g><g transform=\"translate(64,192)\"><rect x=\"0\" y=\"0\" width=\"64\" height=\"64\" fill=\"white\"/></g><g transform=\"translate(128,192)\"><rect x=\"0\" y=\"0\" width=\"64\" height=\"64\" fill=\"black\"/></g></svg>"
      ],
      "text/plain": [
       "<IPython.core.display.SVG object>"
      ]
     },
     "metadata": {},
     "output_type": "display_data"
    },
    {
     "name": "stdout",
     "output_type": "stream",
     "text": [
      "Prediction time for description 'a starlit night over...': 49.2142 seconds\n",
      "<svg viewBox=\"0 0 256 256\" width=\"256\" height=\"256\"><rect x=\"0\" y=\"0\" width=\"256\" height=\"128\" fill=\"#E0FFFF\"/><polygon points=\"128,256 144,224 160,256 176,224 208,251 224,220 238,253 256,221\" fill=\"#D3D3D3\"/><g transform=\"translate(128,128)\"><circle cx=\"0\" cy=\"-60\" r=\"10\" fill=\"#ADD8E6\"/><circle cx=\"30\" cy=\"-40\" r=\"8\" fill=\"#ADD8E6\"/><circle cx=\"-30\" cy=\"-50\" r=\"12\" fill=\"#ADD8E6\"/><circle cx=\"-60\" cy=\"-20\" r=\"6\" fill=\"#ADD8E6\"/><circle cx=\"60\" cy=\"-10\" r=\"9\" fill=\"#ADD8E6\"/></g></svg>\n"
     ]
    },
    {
     "data": {
      "image/svg+xml": [
       "<svg viewBox=\"0 0 256 256\" width=\"256\" height=\"256\"><rect x=\"0\" y=\"0\" width=\"256\" height=\"128\" fill=\"#E0FFFF\"/><polygon points=\"128,256 144,224 160,256 176,224 208,251 224,220 238,253 256,221\" fill=\"#D3D3D3\"/><g transform=\"translate(128,128)\"><circle cx=\"0\" cy=\"-60\" r=\"10\" fill=\"#ADD8E6\"/><circle cx=\"30\" cy=\"-40\" r=\"8\" fill=\"#ADD8E6\"/><circle cx=\"-30\" cy=\"-50\" r=\"12\" fill=\"#ADD8E6\"/><circle cx=\"-60\" cy=\"-20\" r=\"6\" fill=\"#ADD8E6\"/><circle cx=\"60\" cy=\"-10\" r=\"9\" fill=\"#ADD8E6\"/></g></svg>"
      ],
      "text/plain": [
       "<IPython.core.display.SVG object>"
      ]
     },
     "metadata": {},
     "output_type": "display_data"
    },
    {
     "name": "stdout",
     "output_type": "stream",
     "text": [
      "Prediction time for description 'khaki triangles and ...': 20.6900 seconds\n",
      "<svg viewBox=\"0 0 256 256\" width=\"256\" height=\"256\"><polygon points=\"128,56 72,192 184,100\" fill=\"khaki\" opacity=\"0.8\"/><path d=\"M 128,200 C 72,150 184,150 128,200\" fill=\"azure\" opacity=\"0.8\"/></svg>\n"
     ]
    },
    {
     "data": {
      "image/svg+xml": [
       "<svg viewBox=\"0 0 256 256\" width=\"256\" height=\"256\"><polygon points=\"128,56 72,192 184,100\" fill=\"khaki\" opacity=\"0.8\"/><path d=\"M 128,200 C 72,150 184,150 128,200\" fill=\"azure\" opacity=\"0.8\"/></svg>"
      ],
      "text/plain": [
       "<IPython.core.display.SVG object>"
      ]
     },
     "metadata": {},
     "output_type": "display_data"
    },
    {
     "name": "stdout",
     "output_type": "stream",
     "text": [
      "Prediction time for description 'a maroon dodecahedro...': 93.2951 seconds\n",
      "<svg viewBox=\"0 0 256 256\" width=\"256\" height=\"256\"><circle cx=\"128\" cy=\"128\" r=\"80\" fill=\"red\"/><rect x=\"88\" y=\"88\" width=\"80\" height=\"80\" fill=\"blue\"/></svg>\n"
     ]
    },
    {
     "data": {
      "image/svg+xml": [
       "<svg viewBox=\"0 0 256 256\" width=\"256\" height=\"256\"><circle cx=\"128\" cy=\"128\" r=\"80\" fill=\"red\"/><rect x=\"88\" y=\"88\" width=\"80\" height=\"80\" fill=\"blue\"/></svg>"
      ],
      "text/plain": [
       "<IPython.core.display.SVG object>"
      ]
     },
     "metadata": {},
     "output_type": "display_data"
    }
   ],
   "source": [
    "def generate():\n",
    "    import polars as pl\n",
    "    from IPython.display import SVG\n",
    "    import time  # Import the time module\n",
    "    \n",
    "    logging.basicConfig(level=logging.ERROR, force=True)\n",
    "    \n",
    "    train = pl.read_csv('/kaggle/input/drawing-with-llms/train.csv')\n",
    "    display(train.head())\n",
    "    \n",
    "    model = Model()\n",
    "    svgs = []\n",
    "    for desc in train.get_column('description'):\n",
    "        start_time = time.time()  # Record start time\n",
    "        svg = model.predict(desc)\n",
    "        end_time = time.time()    # Record end time\n",
    "        elapsed_time = end_time - start_time # Calculate elapsed time\n",
    "        print(f\"Prediction time for description '{desc[:20]}...': {elapsed_time:.4f} seconds\") # Print time\n",
    "        print(svg)\n",
    "        try:\n",
    "            display(SVG(svg))\n",
    "        except Exception as e:\n",
    "            print(e)\n",
    "            continue\n",
    "\n",
    "# Uncomment and run the line below to see some generated images\n",
    "generate()"
   ]
  }
 ],
 "metadata": {
  "kaggle": {
   "accelerator": "nvidiaTeslaT4",
   "dataSources": [
    {
     "databundleVersionId": 11735795,
     "sourceId": 89659,
     "sourceType": "competition"
    },
    {
     "sourceId": 224423433,
     "sourceType": "kernelVersion"
    },
    {
     "modelId": 222398,
     "modelInstanceId": 239490,
     "sourceId": 282740,
     "sourceType": "modelInstanceVersion"
    },
    {
     "modelId": 222398,
     "modelInstanceId": 239473,
     "sourceId": 282767,
     "sourceType": "modelInstanceVersion"
    }
   ],
   "dockerImageVersionId": 30919,
   "isGpuEnabled": true,
   "isInternetEnabled": true,
   "language": "python",
   "sourceType": "notebook"
  },
  "kernelspec": {
   "display_name": "Python 3",
   "language": "python",
   "name": "python3"
  },
  "language_info": {
   "codemirror_mode": {
    "name": "ipython",
    "version": 3
   },
   "file_extension": ".py",
   "mimetype": "text/x-python",
   "name": "python",
   "nbconvert_exporter": "python",
   "pygments_lexer": "ipython3",
   "version": "3.10.12"
  },
  "papermill": {
   "default_parameters": {},
   "duration": 961.111053,
   "end_time": "2025-04-21T20:22:49.063163",
   "environment_variables": {},
   "exception": null,
   "input_path": "__notebook__.ipynb",
   "output_path": "__notebook__.ipynb",
   "parameters": {},
   "start_time": "2025-04-21T20:06:47.952110",
   "version": "2.6.0"
  },
  "widgets": {
   "application/vnd.jupyter.widget-state+json": {
    "state": {
     "038eeb7efc14406b9ec8ee0e2af736be": {
      "model_module": "@jupyter-widgets/base",
      "model_module_version": "2.0.0",
      "model_name": "LayoutModel",
      "state": {
       "_model_module": "@jupyter-widgets/base",
       "_model_module_version": "2.0.0",
       "_model_name": "LayoutModel",
       "_view_count": null,
       "_view_module": "@jupyter-widgets/base",
       "_view_module_version": "2.0.0",
       "_view_name": "LayoutView",
       "align_content": null,
       "align_items": null,
       "align_self": null,
       "border_bottom": null,
       "border_left": null,
       "border_right": null,
       "border_top": null,
       "bottom": null,
       "display": null,
       "flex": null,
       "flex_flow": null,
       "grid_area": null,
       "grid_auto_columns": null,
       "grid_auto_flow": null,
       "grid_auto_rows": null,
       "grid_column": null,
       "grid_gap": null,
       "grid_row": null,
       "grid_template_areas": null,
       "grid_template_columns": null,
       "grid_template_rows": null,
       "height": null,
       "justify_content": null,
       "justify_items": null,
       "left": null,
       "margin": null,
       "max_height": null,
       "max_width": null,
       "min_height": null,
       "min_width": null,
       "object_fit": null,
       "object_position": null,
       "order": null,
       "overflow": null,
       "padding": null,
       "right": null,
       "top": null,
       "visibility": null,
       "width": null
      }
     },
     "1c951bf367824ce29ca10eebdaa7913d": {
      "model_module": "@jupyter-widgets/base",
      "model_module_version": "2.0.0",
      "model_name": "LayoutModel",
      "state": {
       "_model_module": "@jupyter-widgets/base",
       "_model_module_version": "2.0.0",
       "_model_name": "LayoutModel",
       "_view_count": null,
       "_view_module": "@jupyter-widgets/base",
       "_view_module_version": "2.0.0",
       "_view_name": "LayoutView",
       "align_content": null,
       "align_items": null,
       "align_self": null,
       "border_bottom": null,
       "border_left": null,
       "border_right": null,
       "border_top": null,
       "bottom": null,
       "display": null,
       "flex": null,
       "flex_flow": null,
       "grid_area": null,
       "grid_auto_columns": null,
       "grid_auto_flow": null,
       "grid_auto_rows": null,
       "grid_column": null,
       "grid_gap": null,
       "grid_row": null,
       "grid_template_areas": null,
       "grid_template_columns": null,
       "grid_template_rows": null,
       "height": null,
       "justify_content": null,
       "justify_items": null,
       "left": null,
       "margin": null,
       "max_height": null,
       "max_width": null,
       "min_height": null,
       "min_width": null,
       "object_fit": null,
       "object_position": null,
       "order": null,
       "overflow": null,
       "padding": null,
       "right": null,
       "top": null,
       "visibility": null,
       "width": null
      }
     },
     "2453833054f3496483b69339a72b2c79": {
      "model_module": "@jupyter-widgets/controls",
      "model_module_version": "2.0.0",
      "model_name": "HTMLStyleModel",
      "state": {
       "_model_module": "@jupyter-widgets/controls",
       "_model_module_version": "2.0.0",
       "_model_name": "HTMLStyleModel",
       "_view_count": null,
       "_view_module": "@jupyter-widgets/base",
       "_view_module_version": "2.0.0",
       "_view_name": "StyleView",
       "background": null,
       "description_width": "",
       "font_size": null,
       "text_color": null
      }
     },
     "26a879b3f428427c95fbd85f0c3d3b68": {
      "model_module": "@jupyter-widgets/base",
      "model_module_version": "2.0.0",
      "model_name": "LayoutModel",
      "state": {
       "_model_module": "@jupyter-widgets/base",
       "_model_module_version": "2.0.0",
       "_model_name": "LayoutModel",
       "_view_count": null,
       "_view_module": "@jupyter-widgets/base",
       "_view_module_version": "2.0.0",
       "_view_name": "LayoutView",
       "align_content": null,
       "align_items": null,
       "align_self": null,
       "border_bottom": null,
       "border_left": null,
       "border_right": null,
       "border_top": null,
       "bottom": null,
       "display": null,
       "flex": null,
       "flex_flow": null,
       "grid_area": null,
       "grid_auto_columns": null,
       "grid_auto_flow": null,
       "grid_auto_rows": null,
       "grid_column": null,
       "grid_gap": null,
       "grid_row": null,
       "grid_template_areas": null,
       "grid_template_columns": null,
       "grid_template_rows": null,
       "height": null,
       "justify_content": null,
       "justify_items": null,
       "left": null,
       "margin": null,
       "max_height": null,
       "max_width": null,
       "min_height": null,
       "min_width": null,
       "object_fit": null,
       "object_position": null,
       "order": null,
       "overflow": null,
       "padding": null,
       "right": null,
       "top": null,
       "visibility": null,
       "width": null
      }
     },
     "55ef6d83b97e48b487793b8a71bf90c1": {
      "model_module": "@jupyter-widgets/controls",
      "model_module_version": "2.0.0",
      "model_name": "HTMLModel",
      "state": {
       "_dom_classes": [],
       "_model_module": "@jupyter-widgets/controls",
       "_model_module_version": "2.0.0",
       "_model_name": "HTMLModel",
       "_view_count": null,
       "_view_module": "@jupyter-widgets/controls",
       "_view_module_version": "2.0.0",
       "_view_name": "HTMLView",
       "description": "",
       "description_allow_html": false,
       "layout": "IPY_MODEL_1c951bf367824ce29ca10eebdaa7913d",
       "placeholder": "​",
       "style": "IPY_MODEL_accfa93c74b746bf9faa86ee7f3dac8d",
       "tabbable": null,
       "tooltip": null,
       "value": " 5/5 [03:06&lt;00:00, 36.94s/it]"
      }
     },
     "5b73db78128e4ff9919bc78d495e9dab": {
      "model_module": "@jupyter-widgets/controls",
      "model_module_version": "2.0.0",
      "model_name": "FloatProgressModel",
      "state": {
       "_dom_classes": [],
       "_model_module": "@jupyter-widgets/controls",
       "_model_module_version": "2.0.0",
       "_model_name": "FloatProgressModel",
       "_view_count": null,
       "_view_module": "@jupyter-widgets/controls",
       "_view_module_version": "2.0.0",
       "_view_name": "ProgressView",
       "bar_style": "success",
       "description": "",
       "description_allow_html": false,
       "layout": "IPY_MODEL_adcb65c70f594804907a1d9ba7e52a23",
       "max": 5.0,
       "min": 0.0,
       "orientation": "horizontal",
       "style": "IPY_MODEL_6f42135cf53d4ae0bf2fbfdb6fffd0c8",
       "tabbable": null,
       "tooltip": null,
       "value": 5.0
      }
     },
     "6f42135cf53d4ae0bf2fbfdb6fffd0c8": {
      "model_module": "@jupyter-widgets/controls",
      "model_module_version": "2.0.0",
      "model_name": "ProgressStyleModel",
      "state": {
       "_model_module": "@jupyter-widgets/controls",
       "_model_module_version": "2.0.0",
       "_model_name": "ProgressStyleModel",
       "_view_count": null,
       "_view_module": "@jupyter-widgets/base",
       "_view_module_version": "2.0.0",
       "_view_name": "StyleView",
       "bar_color": null,
       "description_width": ""
      }
     },
     "8e749aef85b44cc298d90703c7c02091": {
      "model_module": "@jupyter-widgets/controls",
      "model_module_version": "2.0.0",
      "model_name": "HBoxModel",
      "state": {
       "_dom_classes": [],
       "_model_module": "@jupyter-widgets/controls",
       "_model_module_version": "2.0.0",
       "_model_name": "HBoxModel",
       "_view_count": null,
       "_view_module": "@jupyter-widgets/controls",
       "_view_module_version": "2.0.0",
       "_view_name": "HBoxView",
       "box_style": "",
       "children": [
        "IPY_MODEL_f84539dc1240415a89dc10883d482e0f",
        "IPY_MODEL_5b73db78128e4ff9919bc78d495e9dab",
        "IPY_MODEL_55ef6d83b97e48b487793b8a71bf90c1"
       ],
       "layout": "IPY_MODEL_26a879b3f428427c95fbd85f0c3d3b68",
       "tabbable": null,
       "tooltip": null
      }
     },
     "accfa93c74b746bf9faa86ee7f3dac8d": {
      "model_module": "@jupyter-widgets/controls",
      "model_module_version": "2.0.0",
      "model_name": "HTMLStyleModel",
      "state": {
       "_model_module": "@jupyter-widgets/controls",
       "_model_module_version": "2.0.0",
       "_model_name": "HTMLStyleModel",
       "_view_count": null,
       "_view_module": "@jupyter-widgets/base",
       "_view_module_version": "2.0.0",
       "_view_name": "StyleView",
       "background": null,
       "description_width": "",
       "font_size": null,
       "text_color": null
      }
     },
     "adcb65c70f594804907a1d9ba7e52a23": {
      "model_module": "@jupyter-widgets/base",
      "model_module_version": "2.0.0",
      "model_name": "LayoutModel",
      "state": {
       "_model_module": "@jupyter-widgets/base",
       "_model_module_version": "2.0.0",
       "_model_name": "LayoutModel",
       "_view_count": null,
       "_view_module": "@jupyter-widgets/base",
       "_view_module_version": "2.0.0",
       "_view_name": "LayoutView",
       "align_content": null,
       "align_items": null,
       "align_self": null,
       "border_bottom": null,
       "border_left": null,
       "border_right": null,
       "border_top": null,
       "bottom": null,
       "display": null,
       "flex": null,
       "flex_flow": null,
       "grid_area": null,
       "grid_auto_columns": null,
       "grid_auto_flow": null,
       "grid_auto_rows": null,
       "grid_column": null,
       "grid_gap": null,
       "grid_row": null,
       "grid_template_areas": null,
       "grid_template_columns": null,
       "grid_template_rows": null,
       "height": null,
       "justify_content": null,
       "justify_items": null,
       "left": null,
       "margin": null,
       "max_height": null,
       "max_width": null,
       "min_height": null,
       "min_width": null,
       "object_fit": null,
       "object_position": null,
       "order": null,
       "overflow": null,
       "padding": null,
       "right": null,
       "top": null,
       "visibility": null,
       "width": null
      }
     },
     "f84539dc1240415a89dc10883d482e0f": {
      "model_module": "@jupyter-widgets/controls",
      "model_module_version": "2.0.0",
      "model_name": "HTMLModel",
      "state": {
       "_dom_classes": [],
       "_model_module": "@jupyter-widgets/controls",
       "_model_module_version": "2.0.0",
       "_model_name": "HTMLModel",
       "_view_count": null,
       "_view_module": "@jupyter-widgets/controls",
       "_view_module_version": "2.0.0",
       "_view_name": "HTMLView",
       "description": "",
       "description_allow_html": false,
       "layout": "IPY_MODEL_038eeb7efc14406b9ec8ee0e2af736be",
       "placeholder": "​",
       "style": "IPY_MODEL_2453833054f3496483b69339a72b2c79",
       "tabbable": null,
       "tooltip": null,
       "value": "Loading checkpoint shards: 100%"
      }
     }
    },
    "version_major": 2,
    "version_minor": 0
   }
  }
 },
 "nbformat": 4,
 "nbformat_minor": 5
}
