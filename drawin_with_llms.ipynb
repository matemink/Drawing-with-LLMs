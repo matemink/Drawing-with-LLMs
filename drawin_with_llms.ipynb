{
 "cells": [
  {
   "cell_type": "code",
   "execution_count": 1,
   "id": "d8230019",
   "metadata": {
    "execution": {
     "iopub.execute_input": "2025-05-09T10:50:14.413800Z",
     "iopub.status.busy": "2025-05-09T10:50:14.413548Z",
     "iopub.status.idle": "2025-05-09T10:50:14.418246Z",
     "shell.execute_reply": "2025-05-09T10:50:14.417505Z"
    },
    "papermill": {
     "duration": 0.009543,
     "end_time": "2025-05-09T10:50:14.419590",
     "exception": false,
     "start_time": "2025-05-09T10:50:14.410047",
     "status": "completed"
    },
    "tags": []
   },
   "outputs": [],
   "source": [
    "#| default_exp core"
   ]
  },
  {
   "cell_type": "code",
   "execution_count": 2,
   "id": "f4ca72e8",
   "metadata": {
    "execution": {
     "iopub.execute_input": "2025-05-09T10:50:14.425240Z",
     "iopub.status.busy": "2025-05-09T10:50:14.425025Z",
     "iopub.status.idle": "2025-05-09T10:50:40.447998Z",
     "shell.execute_reply": "2025-05-09T10:50:40.447315Z"
    },
    "papermill": {
     "duration": 26.027465,
     "end_time": "2025-05-09T10:50:40.449532",
     "exception": false,
     "start_time": "2025-05-09T10:50:14.422067",
     "status": "completed"
    },
    "tags": []
   },
   "outputs": [],
   "source": [
    "#| export\n",
    "import concurrent\n",
    "import io\n",
    "import logging\n",
    "import re\n",
    "import re2\n",
    "\n",
    "import cairosvg\n",
    "import kagglehub\n",
    "import torch\n",
    "from lxml import etree\n",
    "from transformers import AutoTokenizer, AutoModelForCausalLM, BitsAndBytesConfig\n",
    "from transformers.models.gemma3 import Gemma3ForConditionalGeneration, Gemma3Processor, Gemma3ForCausalLM\n",
    "\n",
    "svg_constraints = kagglehub.package_import('metric/svg-constraints')\n",
    "\n",
    "DEVICE = torch.device(\"cuda:0\" if torch.cuda.is_available() else \"cpu\")\n",
    "\n",
    "\n",
    "class Model:\n",
    "    def __init__(self):\n",
    "        # Define 4-bit quantization configuration using bitsandbytes for efficient inference\n",
    "        quantization_config = BitsAndBytesConfig(\n",
    "            load_in_4bit=True,                         # Load model in 4-bit precision to save memory\n",
    "            bnb_4bit_quant_type=\"nf4\",                 # Use the \"nf4\" quantization type, which improves accuracy over traditional 4-bit formats\n",
    "            bnb_4bit_use_double_quant=True,            # Enables nested quantization for better memory-efficiency\n",
    "            bnb_4bit_compute_dtype=torch.bfloat16,     # Use bfloat16 for computation (efficient on modern hardware like A100, RTX 30+)\n",
    "        )\n",
    "\n",
    "        # Load the model checkpoint from KaggleHub\n",
    "        self.model_path = kagglehub.model_download(\"google/gemma-3/transformers/gemma-3-12b-it\")\n",
    "\n",
    "        # Initialize the processor (tokenizer + preprocessor) for the Gemma 3 model\n",
    "        self.processor = Gemma3Processor.from_pretrained(self.model_path, use_fast=True)\n",
    "\n",
    "        # Load the model itself, applying quantization and assigning it automatically to the available device (CPU/GPU)\n",
    "        self.model = Gemma3ForConditionalGeneration.from_pretrained(self.model_path, \n",
    "                                                                    quantization_config=quantization_config,\n",
    "                                                                    torch_dtype=torch.bfloat16, \n",
    "                                                                    device_map=\"auto\",)\n",
    "        \n",
    "        # Define the system prompt template for SVG generation\n",
    "        self.prompt_template = \"\"\"\n",
    "Generate a well-formed, minimalist SVG based on the following visual description. The SVG must strictly follow the constraints and produce clean, elegant output optimized for compactness and clarity.\n",
    "\n",
    "<constraints>\n",
    "* **Allowed Elements:** `svg`, `path`, `circle`, `rect`, `ellipse`, `line`, `polyline`, `polygon`, `g`, `linearGradient`, `radialGradient`, `stop`, `defs`\n",
    "* **Allowed Attributes:** `viewBox`, `width`, `height`, `fill`, `stroke`, `stroke-width`, `d`, `cx`, `cy`, `r`, `x`, `y`, `rx`, `ry`, `x1`, `y1`, `x2`, `y2`, `points`, `transform`, `opacity`\n",
    "* **Output Format:** Always use `viewBox=\"0 0 256 256\"` with `width=\"256\"` and `height=\"256\"`\n",
    "* **Keep output minimal and visually balanced**. Avoid extra elements, comments, or unused attributes.\n",
    "</constraints>\n",
    "\n",
    "<example>\n",
    "<description>\"A red circle with a blue square inside\"</description>\n",
    "```svg\n",
    "<svg viewBox=\"0 0 256 256\" width=\"256\" height=\"256\">\n",
    "  <circle cx=\"128\" cy=\"128\" r=\"80\" fill=\"red\"/>\n",
    "  <rect x=\"88\" y=\"88\" width=\"80\" height=\"80\" fill=\"blue\"/>\n",
    "</svg>\n",
    "</example>\n",
    "Respond with only complete, valid SVG code between <svg> and </svg>. Avoid unnecessary detail or repetition. Never output comments or partial code.\n",
    "\n",
    "<description>\"{}\"</description>\n",
    "<svg viewBox=\"0 0 256 256\" width=\"256\" height=\"256\">\n",
    "\"\"\"\n",
    "        self.default_svg = \"\"\"<svg width=\"256\" height=\"256\" viewBox=\"0 0 256 256\"><circle cx=\"50\" cy=\"50\" r=\"40\" fill=\"red\" /></svg>\"\"\"\n",
    "        self.constraints = svg_constraints.SVGConstraints()\n",
    "        self.timeout_seconds = 300\n",
    "\n",
    "    def predict(self, description: str) -> str:\n",
    "        def generate_svg():\n",
    "            try:\n",
    "                # Format the prompt using the template and user-provided description\n",
    "                prompt = self.prompt_template.format(description)\n",
    "                \n",
    "                # Tokenize the prompt text using the processor (includes tokenizer + any pre-processing)\n",
    "                # Converts input to tensors and moves to correct device (CPU/GPU)\n",
    "                inputs = self.processor(text=prompt, return_tensors=\"pt\").to(DEVICE)\n",
    "\n",
    "                # Disable gradient tracking since we’re only doing inference\n",
    "                with torch.no_grad():\n",
    "                    # Generate SVG code using the model with nucleus sampling\n",
    "                    output = self.model.generate(\n",
    "                        **inputs,\n",
    "                        max_new_tokens=1280,      # Limits the maximum number of new tokens to generate\n",
    "                        do_sample=True,          # Enables random sampling (vs greedy decoding)\n",
    "                        temperature=0.6,         # Controls randomness (lower = less random)\n",
    "                        top_p=0.85,               # Enables nucleus sampling (top-p sampling)\n",
    "                    )\n",
    "\n",
    "                # Decode the generated tokens to a readable string\n",
    "                output_decoded = self.processor.decode(output[0],                           # Take the first sequence (batch size = 1)\n",
    "                                                       skip_special_tokens=True,            # Remove special tokens like <pad>, <bos>, <eos>\n",
    "                                                       clean_up_tokenization_spaces=False)  # Avoid automatic spacing/cleanup for precision\n",
    "\n",
    "                \n",
    "                logging.debug('Output decoded from model: %s', output_decoded)\n",
    "\n",
    "                matches = re.findall(r\"<svg.*?</svg>\", output_decoded, re.DOTALL | re.IGNORECASE)\n",
    "                if matches:\n",
    "                    svg = matches[-1]\n",
    "                else:\n",
    "                    return self.default_svg\n",
    "\n",
    "                logging.debug('Unprocessed SVG: %s', svg)\n",
    "                svg = self.enforce_constraints(svg)\n",
    "                logging.debug('Processed SVG: %s', svg)\n",
    "                # Ensure the generated code can be converted by cairosvg\n",
    "                cairosvg.svg2png(bytestring=svg.encode('utf-8'))\n",
    "                return svg\n",
    "            except Exception as e:\n",
    "                logging.error('Exception during SVG generation: %s', e)\n",
    "                return self.default_svg\n",
    "\n",
    "        # Execute SVG generation in a new thread to enforce time constraints\n",
    "        with concurrent.futures.ThreadPoolExecutor(max_workers=1) as executor:\n",
    "            \n",
    "            # Submit the generate_svg function to be executed in a separate thread\n",
    "            future = executor.submit(generate_svg)\n",
    "            try:\n",
    "\n",
    "                # Wait for the result with a timeout; if it exceeds, a TimeoutError is raised\n",
    "                return future.result(timeout=self.timeout_seconds)\n",
    "                \n",
    "            except concurrent.futures.TimeoutError:\n",
    "                \n",
    "                # If the generation takes longer than the timeout, log a warning and return default SVG\n",
    "                logging.warning(\"Prediction timed out after %s seconds.\", self.timeout_seconds)\n",
    "                return self.default_svg\n",
    "                \n",
    "            except Exception as e:\n",
    "\n",
    "                # Catch any other unexpected errors, log them, and return the fallback SVG\n",
    "                logging.error(f\"An unexpected error occurred: {e}\")\n",
    "                return self.default_svg\n",
    "\n",
    "    def enforce_constraints(self, svg_string: str) -> str:\n",
    "        \"\"\"Enforces constraints on an SVG string, removing disallowed elements\n",
    "        and attributes.\n",
    "\n",
    "        Parameters\n",
    "        ----------\n",
    "        svg_string : str\n",
    "            The SVG string to process.\n",
    "\n",
    "        Returns\n",
    "        -------\n",
    "        str\n",
    "            The processed SVG string, or the default SVG if constraints\n",
    "            cannot be satisfied.\n",
    "        \"\"\"\n",
    "        logging.info('Sanitizing SVG...')\n",
    "\n",
    "        try:\n",
    "            parser = etree.XMLParser(remove_blank_text=True, remove_comments=True)\n",
    "            root = etree.fromstring(svg_string, parser=parser)\n",
    "        except etree.ParseError as e:\n",
    "            logging.error('SVG Parse Error: %s. Returning default SVG.', e)\n",
    "            return self.default_svg\n",
    "    \n",
    "        elements_to_remove = []\n",
    "        for element in root.iter():\n",
    "            tag_name = etree.QName(element.tag).localname\n",
    "    \n",
    "            # Remove disallowed elements\n",
    "            if tag_name not in self.constraints.allowed_elements:\n",
    "                elements_to_remove.append(element)\n",
    "                continue  # Skip attribute checks for removed elements\n",
    "    \n",
    "            # Remove disallowed attributes\n",
    "            attrs_to_remove = []\n",
    "            for attr in element.attrib:\n",
    "                attr_name = etree.QName(attr).localname\n",
    "                if (\n",
    "                    attr_name\n",
    "                    not in self.constraints.allowed_elements[tag_name]\n",
    "                    and attr_name\n",
    "                    not in self.constraints.allowed_elements['common']\n",
    "                ):\n",
    "                    attrs_to_remove.append(attr)\n",
    "    \n",
    "            for attr in attrs_to_remove:\n",
    "                logging.debug(\n",
    "                    'Attribute \"%s\" for element \"%s\" not allowed. Removing.',\n",
    "                    attr,\n",
    "                    tag_name,\n",
    "                )\n",
    "                del element.attrib[attr]\n",
    "    \n",
    "            # Check and remove invalid href attributes\n",
    "            for attr, value in element.attrib.items():\n",
    "                 if etree.QName(attr).localname == 'href' and not value.startswith('#'):\n",
    "                    logging.debug(\n",
    "                        'Removing invalid href attribute in element \"%s\".', tag_name\n",
    "                    )\n",
    "                    del element.attrib[attr]\n",
    "\n",
    "            # Validate path elements to help ensure SVG conversion\n",
    "            if tag_name == 'path':\n",
    "                d_attribute = element.get('d')\n",
    "                if not d_attribute:\n",
    "                    logging.warning('Path element is missing \"d\" attribute. Removing path.')\n",
    "                    elements_to_remove.append(element)\n",
    "                    continue # Skip further checks for this removed element\n",
    "                # Use regex to validate 'd' attribute format\n",
    "                path_regex = re2.compile(\n",
    "                    r'^'  # Start of string\n",
    "                    r'(?:'  # Non-capturing group for each command + numbers block\n",
    "                    r'[MmZzLlHhVvCcSsQqTtAa]'  # Valid SVG path commands (adjusted to exclude extra letters)\n",
    "                    r'\\s*'  # Optional whitespace after command\n",
    "                    r'(?:'  # Non-capturing group for optional numbers\n",
    "                    r'-?\\d+(?:\\.\\d+)?(?:[Ee][+-]?\\d+)?'  # First number\n",
    "                    r'(?:[\\s,]+-?\\d+(?:\\.\\d+)?(?:[Ee][+-]?\\d+)?)*'  # Subsequent numbers with mandatory separator(s)\n",
    "                    r')?'  # Numbers are optional (e.g. for Z command)\n",
    "                    r'\\s*'  # Optional whitespace after numbers/command block\n",
    "                    r')+'  # One or more command blocks\n",
    "                    r'\\s*'  # Optional trailing whitespace\n",
    "                    r'$'  # End of string\n",
    "                )\n",
    "                if not path_regex.match(d_attribute):\n",
    "                    logging.warning(\n",
    "                        'Path element has malformed \"d\" attribute format. Removing path.'\n",
    "                    )\n",
    "                    elements_to_remove.append(element)\n",
    "                    continue\n",
    "                logging.debug('Path element \"d\" attribute validated (regex check).')\n",
    "        \n",
    "        # Remove elements marked for removal\n",
    "        for element in elements_to_remove:\n",
    "            if element.getparent() is not None:\n",
    "                element.getparent().remove(element)\n",
    "                logging.debug('Removed element: %s', element.tag)\n",
    "\n",
    "        try:\n",
    "            cleaned_svg_string = etree.tostring(root, encoding='unicode')\n",
    "            return cleaned_svg_string\n",
    "        except ValueError as e:\n",
    "            logging.error(\n",
    "                'SVG could not be sanitized to meet constraints: %s', e\n",
    "            )\n",
    "            return self.default_svg"
   ]
  },
  {
   "cell_type": "markdown",
   "id": "7c89332a",
   "metadata": {
    "papermill": {
     "duration": 0.001999,
     "end_time": "2025-05-09T10:50:40.454192",
     "exception": false,
     "start_time": "2025-05-09T10:50:40.452193",
     "status": "completed"
    },
    "tags": []
   },
   "source": [
    "The following code tests the above model in a local mock-up of this competition's evaluation pipeline. It runs the model on a sample of 15 instances defined in the `test.csv` file in the `kaggle_evaluation` package folder."
   ]
  },
  {
   "cell_type": "code",
   "execution_count": 3,
   "id": "68a554f6",
   "metadata": {
    "execution": {
     "iopub.execute_input": "2025-05-09T10:50:40.459509Z",
     "iopub.status.busy": "2025-05-09T10:50:40.459005Z",
     "iopub.status.idle": "2025-05-09T10:50:41.130476Z",
     "shell.execute_reply": "2025-05-09T10:50:41.129739Z"
    },
    "papermill": {
     "duration": 0.675851,
     "end_time": "2025-05-09T10:50:41.132159",
     "exception": false,
     "start_time": "2025-05-09T10:50:40.456308",
     "status": "completed"
    },
    "tags": []
   },
   "outputs": [],
   "source": [
    "import kaggle_evaluation\n",
    "\n",
    "#logging.basicConfig(level=logging.WARNING, force=True)\n",
    "#kaggle_evaluation.test(Model)"
   ]
  },
  {
   "cell_type": "code",
   "execution_count": 4,
   "id": "e2208371",
   "metadata": {
    "execution": {
     "iopub.execute_input": "2025-05-09T10:50:41.137734Z",
     "iopub.status.busy": "2025-05-09T10:50:41.137483Z",
     "iopub.status.idle": "2025-05-09T11:05:09.101835Z",
     "shell.execute_reply": "2025-05-09T11:05:09.100764Z"
    },
    "papermill": {
     "duration": 867.968738,
     "end_time": "2025-05-09T11:05:09.103472",
     "exception": false,
     "start_time": "2025-05-09T10:50:41.134734",
     "status": "completed"
    },
    "tags": []
   },
   "outputs": [
    {
     "data": {
      "text/html": [
       "<div><style>\n",
       ".dataframe > thead > tr,\n",
       ".dataframe > tbody > tr {\n",
       "  text-align: right;\n",
       "  white-space: pre-wrap;\n",
       "}\n",
       "</style>\n",
       "<small>shape: (5, 2)</small><table border=\"1\" class=\"dataframe\"><thead><tr><th>id</th><th>description</th></tr><tr><td>str</td><td>str</td></tr></thead><tbody><tr><td>&quot;02d892&quot;</td><td>&quot;a purple forest at dusk&quot;</td></tr><tr><td>&quot;0dcd2e&quot;</td><td>&quot;gray wool coat with a faux fur…</td></tr><tr><td>&quot;1e9ac1&quot;</td><td>&quot;a lighthouse overlooking the o…</td></tr><tr><td>&quot;2b25db&quot;</td><td>&quot;burgundy corduroy pants with p…</td></tr><tr><td>&quot;4e6a54&quot;</td><td>&quot;orange corduroy overalls&quot;</td></tr></tbody></table></div>"
      ],
      "text/plain": [
       "shape: (5, 2)\n",
       "┌────────┬─────────────────────────────────┐\n",
       "│ id     ┆ description                     │\n",
       "│ ---    ┆ ---                             │\n",
       "│ str    ┆ str                             │\n",
       "╞════════╪═════════════════════════════════╡\n",
       "│ 02d892 ┆ a purple forest at dusk         │\n",
       "│ 0dcd2e ┆ gray wool coat with a faux fur… │\n",
       "│ 1e9ac1 ┆ a lighthouse overlooking the o… │\n",
       "│ 2b25db ┆ burgundy corduroy pants with p… │\n",
       "│ 4e6a54 ┆ orange corduroy overalls        │\n",
       "└────────┴─────────────────────────────────┘"
      ]
     },
     "metadata": {},
     "output_type": "display_data"
    },
    {
     "data": {
      "application/vnd.jupyter.widget-view+json": {
       "model_id": "17765f1b687449cb809f2391f8259058",
       "version_major": 2,
       "version_minor": 0
      },
      "text/plain": [
       "Loading checkpoint shards:   0%|          | 0/5 [00:00<?, ?it/s]"
      ]
     },
     "metadata": {},
     "output_type": "display_data"
    },
    {
     "name": "stdout",
     "output_type": "stream",
     "text": [
      "Prediction time for description 'a purple forest at d...': 36.2318 seconds\n",
      "<svg viewBox=\"0 0 256 256\" width=\"256\" height=\"256\"><path d=\"M0,256 L256,256 L256,0 L0,0 Z\" fill=\"#222\"/><polyline points=\"64,192 128,64 192,192\" stroke=\"purple\" stroke-width=\"8\"/><polyline points=\"96,160 160,80 224,160\" stroke=\"purple\" stroke-width=\"6\"/><polyline points=\"128,128 192,16 64,128\" stroke=\"purple\" stroke-width=\"4\"/></svg>\n"
     ]
    },
    {
     "data": {
      "image/svg+xml": [
       "<svg viewBox=\"0 0 256 256\" width=\"256\" height=\"256\"><path d=\"M0,256 L256,256 L256,0 L0,0 Z\" fill=\"#222\"/><polyline points=\"64,192 128,64 192,192\" stroke=\"purple\" stroke-width=\"8\"/><polyline points=\"96,160 160,80 224,160\" stroke=\"purple\" stroke-width=\"6\"/><polyline points=\"128,128 192,16 64,128\" stroke=\"purple\" stroke-width=\"4\"/></svg>"
      ],
      "text/plain": [
       "<IPython.core.display.SVG object>"
      ]
     },
     "metadata": {},
     "output_type": "display_data"
    },
    {
     "name": "stdout",
     "output_type": "stream",
     "text": [
      "Prediction time for description 'gray wool coat with ...': 23.7146 seconds\n",
      "<svg viewBox=\"0 0 256 256\" width=\"256\" height=\"256\"><path d=\"M128 20 L176 100 L256 150 L192 220 L128 250 L64 220 L0 150 L64 100 Z\" fill=\"gray\"/><path d=\"M128 20 L128 50\" fill=\"black\"/></svg>\n"
     ]
    },
    {
     "data": {
      "image/svg+xml": [
       "<svg viewBox=\"0 0 256 256\" width=\"256\" height=\"256\"><path d=\"M128 20 L176 100 L256 150 L192 220 L128 250 L64 220 L0 150 L64 100 Z\" fill=\"gray\"/><path d=\"M128 20 L128 50\" fill=\"black\"/></svg>"
      ],
      "text/plain": [
       "<IPython.core.display.SVG object>"
      ]
     },
     "metadata": {},
     "output_type": "display_data"
    },
    {
     "name": "stdout",
     "output_type": "stream",
     "text": [
      "Prediction time for description 'a lighthouse overloo...': 24.1870 seconds\n",
      "<svg viewBox=\"0 0 256 256\" width=\"256\" height=\"256\"><rect x=\"0\" y=\"128\" width=\"256\" height=\"128\" fill=\"blue\"/><rect x=\"128\" y=\"0\" width=\"64\" height=\"128\" fill=\"gray\"/><path d=\"M128 0 L192 64 L128 128 L64 64 Z\" fill=\"white\"/></svg>\n"
     ]
    },
    {
     "data": {
      "image/svg+xml": [
       "<svg viewBox=\"0 0 256 256\" width=\"256\" height=\"256\"><rect x=\"0\" y=\"128\" width=\"256\" height=\"128\" fill=\"blue\"/><rect x=\"128\" y=\"0\" width=\"64\" height=\"128\" fill=\"gray\"/><path d=\"M128 0 L192 64 L128 128 L64 64 Z\" fill=\"white\"/></svg>"
      ],
      "text/plain": [
       "<IPython.core.display.SVG object>"
      ]
     },
     "metadata": {},
     "output_type": "display_data"
    },
    {
     "name": "stdout",
     "output_type": "stream",
     "text": [
      "Prediction time for description 'burgundy corduroy pa...': 33.9642 seconds\n",
      "<svg viewBox=\"0 0 256 256\" width=\"256\" height=\"256\"><rect x=\"64\" y=\"64\" width=\"128\" height=\"160\" fill=\"#800040\"/><rect x=\"80\" y=\"80\" width=\"32\" height=\"40\" fill=\"#a0a0a0\"/><rect x=\"168\" y=\"80\" width=\"32\" height=\"40\" fill=\"#a0a0a0\"/><circle cx=\"96\" cy=\"112\" r=\"8\" fill=\"silver\"/><circle cx=\"176\" cy=\"112\" r=\"8\" fill=\"silver\"/></svg>\n"
     ]
    },
    {
     "data": {
      "image/svg+xml": [
       "<svg viewBox=\"0 0 256 256\" width=\"256\" height=\"256\"><rect x=\"64\" y=\"64\" width=\"128\" height=\"160\" fill=\"#800040\"/><rect x=\"80\" y=\"80\" width=\"32\" height=\"40\" fill=\"#a0a0a0\"/><rect x=\"168\" y=\"80\" width=\"32\" height=\"40\" fill=\"#a0a0a0\"/><circle cx=\"96\" cy=\"112\" r=\"8\" fill=\"silver\"/><circle cx=\"176\" cy=\"112\" r=\"8\" fill=\"silver\"/></svg>"
      ],
      "text/plain": [
       "<IPython.core.display.SVG object>"
      ]
     },
     "metadata": {},
     "output_type": "display_data"
    },
    {
     "name": "stdout",
     "output_type": "stream",
     "text": [
      "Prediction time for description 'orange corduroy over...': 37.3046 seconds\n",
      "<svg viewBox=\"0 0 256 256\" width=\"256\" height=\"256\"><rect x=\"0\" y=\"64\" width=\"256\" height=\"192\" fill=\"#FFA500\" stroke=\"black\" stroke-width=\"2\"/><polyline points=\"0,64 32,128 64,64\" fill=\"black\"/><polyline points=\"256,64 224,128 192,64\" fill=\"black\"/><polyline points=\"0,192 32,128 64,192\" fill=\"black\"/><polyline points=\"256,192 224,128 192,192\" fill=\"black\"/></svg>\n"
     ]
    },
    {
     "data": {
      "image/svg+xml": [
       "<svg viewBox=\"0 0 256 256\" width=\"256\" height=\"256\"><rect x=\"0\" y=\"64\" width=\"256\" height=\"192\" fill=\"#FFA500\" stroke=\"black\" stroke-width=\"2\"/><polyline points=\"0,64 32,128 64,64\" fill=\"black\"/><polyline points=\"256,64 224,128 192,64\" fill=\"black\"/><polyline points=\"0,192 32,128 64,192\" fill=\"black\"/><polyline points=\"256,192 224,128 192,192\" fill=\"black\"/></svg>"
      ],
      "text/plain": [
       "<IPython.core.display.SVG object>"
      ]
     },
     "metadata": {},
     "output_type": "display_data"
    },
    {
     "name": "stdout",
     "output_type": "stream",
     "text": [
      "Prediction time for description 'a purple silk scarf ...': 25.7015 seconds\n",
      "<svg viewBox=\"0 0 256 256\" width=\"256\" height=\"256\"><path d=\"M16,128 C48,32 128,32 192,128\" fill=\"purple\" stroke=\"none\"/><path d=\"M16,128 C48,224 128,224 192,128\" fill=\"none\" stroke=\"purple\" stroke-width=\"8\" transform=\"translate(0,-64)\"/></svg>\n"
     ]
    },
    {
     "data": {
      "image/svg+xml": [
       "<svg viewBox=\"0 0 256 256\" width=\"256\" height=\"256\"><path d=\"M16,128 C48,32 128,32 192,128\" fill=\"purple\" stroke=\"none\"/><path d=\"M16,128 C48,224 128,224 192,128\" fill=\"none\" stroke=\"purple\" stroke-width=\"8\" transform=\"translate(0,-64)\"/></svg>"
      ],
      "text/plain": [
       "<IPython.core.display.SVG object>"
      ]
     },
     "metadata": {},
     "output_type": "display_data"
    },
    {
     "name": "stdout",
     "output_type": "stream",
     "text": [
      "Prediction time for description 'a green lagoon under...': 17.9772 seconds\n",
      "<svg viewBox=\"0 0 256 256\" width=\"256\" height=\"256\"><rect x=\"0\" y=\"128\" width=\"256\" height=\"128\" fill=\"green\"/><ellipse cx=\"128\" cy=\"64\" rx=\"128\" ry=\"32\" fill=\"skyblue\"/></svg>\n"
     ]
    },
    {
     "data": {
      "image/svg+xml": [
       "<svg viewBox=\"0 0 256 256\" width=\"256\" height=\"256\"><rect x=\"0\" y=\"128\" width=\"256\" height=\"128\" fill=\"green\"/><ellipse cx=\"128\" cy=\"64\" rx=\"128\" ry=\"32\" fill=\"skyblue\"/></svg>"
      ],
      "text/plain": [
       "<IPython.core.display.SVG object>"
      ]
     },
     "metadata": {},
     "output_type": "display_data"
    },
    {
     "name": "stdout",
     "output_type": "stream",
     "text": [
      "Prediction time for description 'crimson rectangles f...': 55.3273 seconds\n",
      "<svg viewBox=\"0 0 256 256\" width=\"256\" height=\"256\"><rect x=\"0\" y=\"0\" width=\"64\" height=\"64\" fill=\"crimson\"/><rect x=\"64\" y=\"0\" width=\"64\" height=\"64\" fill=\"crimson\"/><rect x=\"128\" y=\"0\" width=\"64\" height=\"64\" fill=\"crimson\"/><rect x=\"0\" y=\"64\" width=\"64\" height=\"64\" fill=\"crimson\"/><rect x=\"64\" y=\"64\" width=\"64\" height=\"64\" fill=\"crimson\"/><rect x=\"128\" y=\"64\" width=\"64\" height=\"64\" fill=\"crimson\"/><rect x=\"0\" y=\"128\" width=\"64\" height=\"64\" fill=\"crimson\"/><rect x=\"64\" y=\"128\" width=\"64\" height=\"64\" fill=\"crimson\"/><rect x=\"128\" y=\"128\" width=\"64\" height=\"64\" fill=\"crimson\"/></svg>\n"
     ]
    },
    {
     "data": {
      "image/svg+xml": [
       "<svg viewBox=\"0 0 256 256\" width=\"256\" height=\"256\"><rect x=\"0\" y=\"0\" width=\"64\" height=\"64\" fill=\"crimson\"/><rect x=\"64\" y=\"0\" width=\"64\" height=\"64\" fill=\"crimson\"/><rect x=\"128\" y=\"0\" width=\"64\" height=\"64\" fill=\"crimson\"/><rect x=\"0\" y=\"64\" width=\"64\" height=\"64\" fill=\"crimson\"/><rect x=\"64\" y=\"64\" width=\"64\" height=\"64\" fill=\"crimson\"/><rect x=\"128\" y=\"64\" width=\"64\" height=\"64\" fill=\"crimson\"/><rect x=\"0\" y=\"128\" width=\"64\" height=\"64\" fill=\"crimson\"/><rect x=\"64\" y=\"128\" width=\"64\" height=\"64\" fill=\"crimson\"/><rect x=\"128\" y=\"128\" width=\"64\" height=\"64\" fill=\"crimson\"/></svg>"
      ],
      "text/plain": [
       "<IPython.core.display.SVG object>"
      ]
     },
     "metadata": {},
     "output_type": "display_data"
    },
    {
     "name": "stdout",
     "output_type": "stream",
     "text": [
      "Prediction time for description 'purple pyramids spir...': 101.7932 seconds\n",
      "<svg viewBox=\"0 0 256 256\" width=\"256\" height=\"256\"><defs><radialGradient id=\"coneGradient\" cx=\"50%\" cy=\"50%\" r=\"50%\" fx=\"50%\" fy=\"50%\"><stop offset=\"0%\" stop-color=\"brown\"/><stop offset=\"100%\" stop-color=\"orange\"/></radialGradient><linearGradient id=\"pyramidGradient\" x1=\"0%\" y1=\"0%\" x2=\"100%\" y2=\"100%\"><stop offset=\"0%\" stop-color=\"purple\"/><stop offset=\"100%\" stop-color=\"indigo\"/></linearGradient></defs><path d=\"M128 20 L160 80 100 140 128 20 Z\" fill=\"url(#pyramidGradient)\" transform=\"rotate(30, 128, 128)\"/><path d=\"M128 20 L160 80 100 140 128 20 Z\" fill=\"url(#pyramidGradient)\" transform=\"rotate(60, 128, 128)\"/><path d=\"M128 20 L160 80 100 140 128 20 Z\" fill=\"url(#pyramidGradient)\" transform=\"rotate(90, 128, 128)\"/><path d=\"M128 20 L160 80 100 140 128 20 Z\" fill=\"url(#pyramidGradient)\" transform=\"rotate(120, 128, 128)\"/><path d=\"M128 20 L160 80 100 140 128 20 Z\" fill=\"url(#pyramidGradient)\" transform=\"rotate(150, 128, 128)\"/><ellipse cx=\"128\" cy=\"128\" rx=\"60\" ry=\"30\" fill=\"url(#coneGradient)\"/></svg>\n"
     ]
    },
    {
     "data": {
      "image/svg+xml": [
       "<svg viewBox=\"0 0 256 256\" width=\"256\" height=\"256\"><defs><radialGradient id=\"coneGradient\" cx=\"50%\" cy=\"50%\" r=\"50%\" fx=\"50%\" fy=\"50%\"><stop offset=\"0%\" stop-color=\"brown\"/><stop offset=\"100%\" stop-color=\"orange\"/></radialGradient><linearGradient id=\"pyramidGradient\" x1=\"0%\" y1=\"0%\" x2=\"100%\" y2=\"100%\"><stop offset=\"0%\" stop-color=\"purple\"/><stop offset=\"100%\" stop-color=\"indigo\"/></linearGradient></defs><path d=\"M128 20 L160 80 100 140 128 20 Z\" fill=\"url(#pyramidGradient)\" transform=\"rotate(30, 128, 128)\"/><path d=\"M128 20 L160 80 100 140 128 20 Z\" fill=\"url(#pyramidGradient)\" transform=\"rotate(60, 128, 128)\"/><path d=\"M128 20 L160 80 100 140 128 20 Z\" fill=\"url(#pyramidGradient)\" transform=\"rotate(90, 128, 128)\"/><path d=\"M128 20 L160 80 100 140 128 20 Z\" fill=\"url(#pyramidGradient)\" transform=\"rotate(120, 128, 128)\"/><path d=\"M128 20 L160 80 100 140 128 20 Z\" fill=\"url(#pyramidGradient)\" transform=\"rotate(150, 128, 128)\"/><ellipse cx=\"128\" cy=\"128\" rx=\"60\" ry=\"30\" fill=\"url(#coneGradient)\"/></svg>"
      ],
      "text/plain": [
       "<IPython.core.display.SVG object>"
      ]
     },
     "metadata": {},
     "output_type": "display_data"
    },
    {
     "name": "stdout",
     "output_type": "stream",
     "text": [
      "Prediction time for description 'magenta trapezoids l...': 28.3546 seconds\n",
      "<svg viewBox=\"0 0 256 256\" width=\"256\" height=\"256\"><rect x=\"0\" y=\"0\" width=\"256\" height=\"256\" fill=\"silver\" opacity=\"0.3\"/><polygon points=\"20,20 100,128 200,128 240,20\" fill=\"magenta\"/><polygon points=\"20,100 100,188 200,188 240,100\" fill=\"magenta\"/></svg>\n"
     ]
    },
    {
     "data": {
      "image/svg+xml": [
       "<svg viewBox=\"0 0 256 256\" width=\"256\" height=\"256\"><rect x=\"0\" y=\"0\" width=\"256\" height=\"256\" fill=\"silver\" opacity=\"0.3\"/><polygon points=\"20,20 100,128 200,128 240,20\" fill=\"magenta\"/><polygon points=\"20,100 100,188 200,188 240,100\" fill=\"magenta\"/></svg>"
      ],
      "text/plain": [
       "<IPython.core.display.SVG object>"
      ]
     },
     "metadata": {},
     "output_type": "display_data"
    },
    {
     "name": "stdout",
     "output_type": "stream",
     "text": [
      "Prediction time for description 'a snowy plain...': 27.2605 seconds\n",
      "<svg viewBox=\"0 0 256 256\" width=\"256\" height=\"256\"><rect x=\"0\" y=\"0\" width=\"256\" height=\"256\" fill=\"#f0f0f0\"/><polyline points=\"0,128 L 256,128\" stroke=\"#ffffff\" stroke-width=\"2\"/><circle cx=\"50\" cy=\"100\" r=\"10\" fill=\"#ffffff\"/><circle cx=\"200\" cy=\"150\" r=\"8\" fill=\"#ffffff\"/></svg>\n"
     ]
    },
    {
     "data": {
      "image/svg+xml": [
       "<svg viewBox=\"0 0 256 256\" width=\"256\" height=\"256\"><rect x=\"0\" y=\"0\" width=\"256\" height=\"256\" fill=\"#f0f0f0\"/><polyline points=\"0,128 L 256,128\" stroke=\"#ffffff\" stroke-width=\"2\"/><circle cx=\"50\" cy=\"100\" r=\"10\" fill=\"#ffffff\"/><circle cx=\"200\" cy=\"150\" r=\"8\" fill=\"#ffffff\"/></svg>"
      ],
      "text/plain": [
       "<IPython.core.display.SVG object>"
      ]
     },
     "metadata": {},
     "output_type": "display_data"
    },
    {
     "name": "stdout",
     "output_type": "stream",
     "text": [
      "Prediction time for description 'black and white chec...': 67.2563 seconds\n",
      "<svg viewBox=\"0 0 256 256\" width=\"256\" height=\"256\"><rect x=\"0\" y=\"0\" width=\"256\" height=\"256\" fill=\"white\"/><g transform=\"translate(64 64)\"><rect x=\"0\" y=\"0\" width=\"64\" height=\"64\" fill=\"black\"/><rect x=\"32\" y=\"32\" width=\"64\" height=\"64\" fill=\"white\"/></g><g transform=\"translate(128 64)\"><rect x=\"0\" y=\"0\" width=\"64\" height=\"64\" fill=\"white\"/><rect x=\"32\" y=\"32\" width=\"64\" height=\"64\" fill=\"black\"/></g><g transform=\"translate(64 128)\"><rect x=\"0\" y=\"0\" width=\"64\" height=\"64\" fill=\"white\"/><rect x=\"32\" y=\"32\" width=\"64\" height=\"64\" fill=\"black\"/></g><g transform=\"translate(128 128)\"><rect x=\"0\" y=\"0\" width=\"64\" height=\"64\" fill=\"black\"/><rect x=\"32\" y=\"32\" width=\"64\" height=\"64\" fill=\"white\"/></g></svg>\n"
     ]
    },
    {
     "data": {
      "image/svg+xml": [
       "<svg viewBox=\"0 0 256 256\" width=\"256\" height=\"256\"><rect x=\"0\" y=\"0\" width=\"256\" height=\"256\" fill=\"white\"/><g transform=\"translate(64 64)\"><rect x=\"0\" y=\"0\" width=\"64\" height=\"64\" fill=\"black\"/><rect x=\"32\" y=\"32\" width=\"64\" height=\"64\" fill=\"white\"/></g><g transform=\"translate(128 64)\"><rect x=\"0\" y=\"0\" width=\"64\" height=\"64\" fill=\"white\"/><rect x=\"32\" y=\"32\" width=\"64\" height=\"64\" fill=\"black\"/></g><g transform=\"translate(64 128)\"><rect x=\"0\" y=\"0\" width=\"64\" height=\"64\" fill=\"white\"/><rect x=\"32\" y=\"32\" width=\"64\" height=\"64\" fill=\"black\"/></g><g transform=\"translate(128 128)\"><rect x=\"0\" y=\"0\" width=\"64\" height=\"64\" fill=\"black\"/><rect x=\"32\" y=\"32\" width=\"64\" height=\"64\" fill=\"white\"/></g></svg>"
      ],
      "text/plain": [
       "<IPython.core.display.SVG object>"
      ]
     },
     "metadata": {},
     "output_type": "display_data"
    },
    {
     "name": "stdout",
     "output_type": "stream",
     "text": [
      "Prediction time for description 'a starlit night over...': 35.5715 seconds\n",
      "<svg viewBox=\"0 0 256 256\" width=\"256\" height=\"256\"><rect x=\"0\" y=\"0\" width=\"256\" height=\"128\" fill=\"#f0f0f0\"/><polygon points=\"128,0 164,64 256,128 192,192 128,160 64,192 0,128 36,64\" fill=\"#333\" stroke=\"#fff\" stroke-width=\"2\"/><circle cx=\"48\" cy=\"80\" r=\"8\" fill=\"#fff\"/><circle cx=\"208\" cy=\"104\" r=\"6\" fill=\"#fff\"/></svg>\n"
     ]
    },
    {
     "data": {
      "image/svg+xml": [
       "<svg viewBox=\"0 0 256 256\" width=\"256\" height=\"256\"><rect x=\"0\" y=\"0\" width=\"256\" height=\"128\" fill=\"#f0f0f0\"/><polygon points=\"128,0 164,64 256,128 192,192 128,160 64,192 0,128 36,64\" fill=\"#333\" stroke=\"#fff\" stroke-width=\"2\"/><circle cx=\"48\" cy=\"80\" r=\"8\" fill=\"#fff\"/><circle cx=\"208\" cy=\"104\" r=\"6\" fill=\"#fff\"/></svg>"
      ],
      "text/plain": [
       "<IPython.core.display.SVG object>"
      ]
     },
     "metadata": {},
     "output_type": "display_data"
    },
    {
     "name": "stdout",
     "output_type": "stream",
     "text": [
      "Prediction time for description 'khaki triangles and ...': 19.5140 seconds\n",
      "<svg viewBox=\"0 0 256 256\" width=\"256\" height=\"256\"><path d=\"M128 256 L0 128 L256 128 Z\" fill=\"khaki\"/><path d=\"M128 0 L0 128 L256 128 Z\" fill=\"azure\"/></svg>\n"
     ]
    },
    {
     "data": {
      "image/svg+xml": [
       "<svg viewBox=\"0 0 256 256\" width=\"256\" height=\"256\"><path d=\"M128 256 L0 128 L256 128 Z\" fill=\"khaki\"/><path d=\"M128 0 L0 128 L256 128 Z\" fill=\"azure\"/></svg>"
      ],
      "text/plain": [
       "<IPython.core.display.SVG object>"
      ]
     },
     "metadata": {},
     "output_type": "display_data"
    },
    {
     "name": "stdout",
     "output_type": "stream",
     "text": [
      "Prediction time for description 'a maroon dodecahedro...': 131.9684 seconds\n",
      "<svg viewBox=\"0 0 256 256\" width=\"256\" height=\"256\"><polygon points=\"128 20 165.29 70.93 190.58 121.86 190.58 190.58 165.29 229.07 128 229.07 90.71 229.07 65.42 200 50.71 165.29 41.42 128 61.42 90.71 65.42 75.81 89.42 100 102.81 114.81 128 128 141.42 150.71 154.81 165.29 165.29 190.58 165.29 229.07 128 229.07 90.71\" fill=\"maroon\"/><path d=\"M128 20L165.29 70.93\" stroke=\"teal\" stroke-width=\"3\"/><path d=\"M165.29 70.93L190.58 121.86\" stroke=\"teal\" stroke-width=\"3\"/><path d=\"M190.58 121.86L190.58 190.58\" stroke=\"teal\" stroke-width=\"3\"/><path d=\"M165.29 229.07L128 229.07\" stroke=\"teal\" stroke-width=\"3\"/><path d=\"M90.71 229.07L65.42 200\" stroke=\"teal\" stroke-width=\"3\"/><path d=\"M65.42 200L50.71 165.29\" stroke=\"teal\" stroke-width=\"3\"/><path d=\"M41.42 128L90.71 65.42\" stroke=\"teal\" stroke-width=\"3\"/><path d=\"M128 61.42L141.42 50.71\" stroke=\"teal\" stroke-width=\"3\"/><path d=\"M150.71 41.42L165.29 30.93\" stroke=\"teal\" stroke-width=\"3\"/><path d=\"M165.29 30.93L190.58 20\" stroke=\"teal\" stroke-width=\"3\"/></svg>\n"
     ]
    },
    {
     "data": {
      "image/svg+xml": [
       "<svg viewBox=\"0 0 256 256\" width=\"256\" height=\"256\"><polygon points=\"128 20 165.29 70.93 190.58 121.86 190.58 190.58 165.29 229.07 128 229.07 90.71 229.07 65.42 200 50.71 165.29 41.42 128 61.42 90.71 65.42 75.81 89.42 100 102.81 114.81 128 128 141.42 150.71 154.81 165.29 165.29 190.58 165.29 229.07 128 229.07 90.71\" fill=\"maroon\"/><path d=\"M128 20L165.29 70.93\" stroke=\"teal\" stroke-width=\"3\"/><path d=\"M165.29 70.93L190.58 121.86\" stroke=\"teal\" stroke-width=\"3\"/><path d=\"M190.58 121.86L190.58 190.58\" stroke=\"teal\" stroke-width=\"3\"/><path d=\"M165.29 229.07L128 229.07\" stroke=\"teal\" stroke-width=\"3\"/><path d=\"M90.71 229.07L65.42 200\" stroke=\"teal\" stroke-width=\"3\"/><path d=\"M65.42 200L50.71 165.29\" stroke=\"teal\" stroke-width=\"3\"/><path d=\"M41.42 128L90.71 65.42\" stroke=\"teal\" stroke-width=\"3\"/><path d=\"M128 61.42L141.42 50.71\" stroke=\"teal\" stroke-width=\"3\"/><path d=\"M150.71 41.42L165.29 30.93\" stroke=\"teal\" stroke-width=\"3\"/><path d=\"M165.29 30.93L190.58 20\" stroke=\"teal\" stroke-width=\"3\"/></svg>"
      ],
      "text/plain": [
       "<IPython.core.display.SVG object>"
      ]
     },
     "metadata": {},
     "output_type": "display_data"
    },
    {
     "data": {
      "text/html": [
       "<div><style>\n",
       ".dataframe > thead > tr,\n",
       ".dataframe > tbody > tr {\n",
       "  text-align: right;\n",
       "  white-space: pre-wrap;\n",
       "}\n",
       "</style>\n",
       "<small>shape: (15, 2)</small><table border=\"1\" class=\"dataframe\"><thead><tr><th>id</th><th>description</th></tr><tr><td>str</td><td>str</td></tr></thead><tbody><tr><td>&quot;02d892&quot;</td><td>&quot;a purple forest at dusk&quot;</td></tr><tr><td>&quot;0dcd2e&quot;</td><td>&quot;gray wool coat with a faux fur…</td></tr><tr><td>&quot;1e9ac1&quot;</td><td>&quot;a lighthouse overlooking the o…</td></tr><tr><td>&quot;2b25db&quot;</td><td>&quot;burgundy corduroy pants with p…</td></tr><tr><td>&quot;4e6a54&quot;</td><td>&quot;orange corduroy overalls&quot;</td></tr><tr><td>&hellip;</td><td>&hellip;</td></tr><tr><td>&quot;9b71cc&quot;</td><td>&quot;a snowy plain&quot;</td></tr><tr><td>&quot;a395a3&quot;</td><td>&quot;black and white checkered pant…</td></tr><tr><td>&quot;ad4c5c&quot;</td><td>&quot;a starlit night over snow-cove…</td></tr><tr><td>&quot;b679e3&quot;</td><td>&quot;khaki triangles and azure cres…</td></tr><tr><td>&quot;f16e62&quot;</td><td>&quot;a maroon dodecahedron interwov…</td></tr></tbody></table></div>"
      ],
      "text/plain": [
       "shape: (15, 2)\n",
       "┌────────┬─────────────────────────────────┐\n",
       "│ id     ┆ description                     │\n",
       "│ ---    ┆ ---                             │\n",
       "│ str    ┆ str                             │\n",
       "╞════════╪═════════════════════════════════╡\n",
       "│ 02d892 ┆ a purple forest at dusk         │\n",
       "│ 0dcd2e ┆ gray wool coat with a faux fur… │\n",
       "│ 1e9ac1 ┆ a lighthouse overlooking the o… │\n",
       "│ 2b25db ┆ burgundy corduroy pants with p… │\n",
       "│ 4e6a54 ┆ orange corduroy overalls        │\n",
       "│ …      ┆ …                               │\n",
       "│ 9b71cc ┆ a snowy plain                   │\n",
       "│ a395a3 ┆ black and white checkered pant… │\n",
       "│ ad4c5c ┆ a starlit night over snow-cove… │\n",
       "│ b679e3 ┆ khaki triangles and azure cres… │\n",
       "│ f16e62 ┆ a maroon dodecahedron interwov… │\n",
       "└────────┴─────────────────────────────────┘"
      ]
     },
     "execution_count": 4,
     "metadata": {},
     "output_type": "execute_result"
    }
   ],
   "source": [
    "import polars as pl\n",
    "import pandas as pd\n",
    "train = pl.read_csv('/kaggle/input/drawing-with-llms/train.csv')\n",
    "\n",
    "def generate():\n",
    "\n",
    "    from IPython.display import SVG\n",
    "    import time  # Import the time module\n",
    "    \n",
    "    logging.basicConfig(level=logging.ERROR, force=True)\n",
    "    \n",
    "    display(train.head())\n",
    "    \n",
    "    model = Model()\n",
    "    svgs = []\n",
    "    for desc in train.get_column('description'):\n",
    "        start_time = time.time()  # Record start time\n",
    "        svg = model.predict(desc)\n",
    "        end_time = time.time()    # Record end time\n",
    "        elapsed_time = end_time - start_time # Calculate elapsed time\n",
    "        \n",
    "        print(f\"Prediction time for description '{desc[:20]}...': {elapsed_time:.4f} seconds\") # Print time\n",
    "        print(svg)\n",
    "        try:\n",
    "            display(SVG(svg))\n",
    "        except Exception as e:\n",
    "            print(e)\n",
    "            continue\n",
    "\n",
    "# Uncomment and run the line below to see some generated images\n",
    "generate()\n",
    "\n",
    "pd.set_option('display.max_colwidth', None)\n",
    "pd.set_option('display.max_columns', None)  \n",
    "train"
   ]
  },
  {
   "cell_type": "code",
   "execution_count": null,
   "id": "e92413bc",
   "metadata": {
    "papermill": {
     "duration": 0.004659,
     "end_time": "2025-05-09T11:05:09.113279",
     "exception": false,
     "start_time": "2025-05-09T11:05:09.108620",
     "status": "completed"
    },
    "tags": []
   },
   "outputs": [],
   "source": []
  }
 ],
 "metadata": {
  "kaggle": {
   "accelerator": "nvidiaTeslaT4",
   "dataSources": [
    {
     "databundleVersionId": 11735795,
     "sourceId": 89659,
     "sourceType": "competition"
    },
    {
     "sourceId": 224423433,
     "sourceType": "kernelVersion"
    },
    {
     "modelId": 971,
     "modelInstanceId": 3319,
     "sourceId": 4527,
     "sourceType": "modelInstanceVersion"
    },
    {
     "modelId": 164716,
     "modelInstanceId": 225001,
     "sourceId": 263093,
     "sourceType": "modelInstanceVersion"
    },
    {
     "modelId": 222398,
     "modelInstanceId": 239470,
     "sourceId": 282751,
     "sourceType": "modelInstanceVersion"
    },
    {
     "modelId": 222398,
     "modelInstanceId": 239473,
     "sourceId": 282767,
     "sourceType": "modelInstanceVersion"
    }
   ],
   "dockerImageVersionId": 30919,
   "isGpuEnabled": true,
   "isInternetEnabled": true,
   "language": "python",
   "sourceType": "notebook"
  },
  "kernelspec": {
   "display_name": "Python 3",
   "language": "python",
   "name": "python3"
  },
  "language_info": {
   "codemirror_mode": {
    "name": "ipython",
    "version": 3
   },
   "file_extension": ".py",
   "mimetype": "text/x-python",
   "name": "python",
   "nbconvert_exporter": "python",
   "pygments_lexer": "ipython3",
   "version": "3.10.12"
  },
  "papermill": {
   "default_parameters": {},
   "duration": 901.267542,
   "end_time": "2025-05-09T11:05:12.821291",
   "environment_variables": {},
   "exception": null,
   "input_path": "__notebook__.ipynb",
   "output_path": "__notebook__.ipynb",
   "parameters": {},
   "start_time": "2025-05-09T10:50:11.553749",
   "version": "2.6.0"
  },
  "widgets": {
   "application/vnd.jupyter.widget-state+json": {
    "state": {
     "049833e2cdbe4cc1920c3e769c5c034e": {
      "model_module": "@jupyter-widgets/base",
      "model_module_version": "2.0.0",
      "model_name": "LayoutModel",
      "state": {
       "_model_module": "@jupyter-widgets/base",
       "_model_module_version": "2.0.0",
       "_model_name": "LayoutModel",
       "_view_count": null,
       "_view_module": "@jupyter-widgets/base",
       "_view_module_version": "2.0.0",
       "_view_name": "LayoutView",
       "align_content": null,
       "align_items": null,
       "align_self": null,
       "border_bottom": null,
       "border_left": null,
       "border_right": null,
       "border_top": null,
       "bottom": null,
       "display": null,
       "flex": null,
       "flex_flow": null,
       "grid_area": null,
       "grid_auto_columns": null,
       "grid_auto_flow": null,
       "grid_auto_rows": null,
       "grid_column": null,
       "grid_gap": null,
       "grid_row": null,
       "grid_template_areas": null,
       "grid_template_columns": null,
       "grid_template_rows": null,
       "height": null,
       "justify_content": null,
       "justify_items": null,
       "left": null,
       "margin": null,
       "max_height": null,
       "max_width": null,
       "min_height": null,
       "min_width": null,
       "object_fit": null,
       "object_position": null,
       "order": null,
       "overflow": null,
       "padding": null,
       "right": null,
       "top": null,
       "visibility": null,
       "width": null
      }
     },
     "1625995821f24928a9642cbccee1ec67": {
      "model_module": "@jupyter-widgets/base",
      "model_module_version": "2.0.0",
      "model_name": "LayoutModel",
      "state": {
       "_model_module": "@jupyter-widgets/base",
       "_model_module_version": "2.0.0",
       "_model_name": "LayoutModel",
       "_view_count": null,
       "_view_module": "@jupyter-widgets/base",
       "_view_module_version": "2.0.0",
       "_view_name": "LayoutView",
       "align_content": null,
       "align_items": null,
       "align_self": null,
       "border_bottom": null,
       "border_left": null,
       "border_right": null,
       "border_top": null,
       "bottom": null,
       "display": null,
       "flex": null,
       "flex_flow": null,
       "grid_area": null,
       "grid_auto_columns": null,
       "grid_auto_flow": null,
       "grid_auto_rows": null,
       "grid_column": null,
       "grid_gap": null,
       "grid_row": null,
       "grid_template_areas": null,
       "grid_template_columns": null,
       "grid_template_rows": null,
       "height": null,
       "justify_content": null,
       "justify_items": null,
       "left": null,
       "margin": null,
       "max_height": null,
       "max_width": null,
       "min_height": null,
       "min_width": null,
       "object_fit": null,
       "object_position": null,
       "order": null,
       "overflow": null,
       "padding": null,
       "right": null,
       "top": null,
       "visibility": null,
       "width": null
      }
     },
     "17765f1b687449cb809f2391f8259058": {
      "model_module": "@jupyter-widgets/controls",
      "model_module_version": "2.0.0",
      "model_name": "HBoxModel",
      "state": {
       "_dom_classes": [],
       "_model_module": "@jupyter-widgets/controls",
       "_model_module_version": "2.0.0",
       "_model_name": "HBoxModel",
       "_view_count": null,
       "_view_module": "@jupyter-widgets/controls",
       "_view_module_version": "2.0.0",
       "_view_name": "HBoxView",
       "box_style": "",
       "children": [
        "IPY_MODEL_501d3a48d7144457bbb88db7b8be6921",
        "IPY_MODEL_eee861ffd8584ed3b8f0c7ede1b0b0b4",
        "IPY_MODEL_6fabbb9ac72940c583d6cf64e32d97c5"
       ],
       "layout": "IPY_MODEL_452b73801ffe4fd4ab2ba3e5bf5b4392",
       "tabbable": null,
       "tooltip": null
      }
     },
     "1b6ed22a7a804b2990eab1c982f945dc": {
      "model_module": "@jupyter-widgets/controls",
      "model_module_version": "2.0.0",
      "model_name": "HTMLStyleModel",
      "state": {
       "_model_module": "@jupyter-widgets/controls",
       "_model_module_version": "2.0.0",
       "_model_name": "HTMLStyleModel",
       "_view_count": null,
       "_view_module": "@jupyter-widgets/base",
       "_view_module_version": "2.0.0",
       "_view_name": "StyleView",
       "background": null,
       "description_width": "",
       "font_size": null,
       "text_color": null
      }
     },
     "290432d632a943df9a524edade267e39": {
      "model_module": "@jupyter-widgets/controls",
      "model_module_version": "2.0.0",
      "model_name": "ProgressStyleModel",
      "state": {
       "_model_module": "@jupyter-widgets/controls",
       "_model_module_version": "2.0.0",
       "_model_name": "ProgressStyleModel",
       "_view_count": null,
       "_view_module": "@jupyter-widgets/base",
       "_view_module_version": "2.0.0",
       "_view_name": "StyleView",
       "bar_color": null,
       "description_width": ""
      }
     },
     "3aa26a19cb8e496bb7c29ad76ff152f7": {
      "model_module": "@jupyter-widgets/base",
      "model_module_version": "2.0.0",
      "model_name": "LayoutModel",
      "state": {
       "_model_module": "@jupyter-widgets/base",
       "_model_module_version": "2.0.0",
       "_model_name": "LayoutModel",
       "_view_count": null,
       "_view_module": "@jupyter-widgets/base",
       "_view_module_version": "2.0.0",
       "_view_name": "LayoutView",
       "align_content": null,
       "align_items": null,
       "align_self": null,
       "border_bottom": null,
       "border_left": null,
       "border_right": null,
       "border_top": null,
       "bottom": null,
       "display": null,
       "flex": null,
       "flex_flow": null,
       "grid_area": null,
       "grid_auto_columns": null,
       "grid_auto_flow": null,
       "grid_auto_rows": null,
       "grid_column": null,
       "grid_gap": null,
       "grid_row": null,
       "grid_template_areas": null,
       "grid_template_columns": null,
       "grid_template_rows": null,
       "height": null,
       "justify_content": null,
       "justify_items": null,
       "left": null,
       "margin": null,
       "max_height": null,
       "max_width": null,
       "min_height": null,
       "min_width": null,
       "object_fit": null,
       "object_position": null,
       "order": null,
       "overflow": null,
       "padding": null,
       "right": null,
       "top": null,
       "visibility": null,
       "width": null
      }
     },
     "452b73801ffe4fd4ab2ba3e5bf5b4392": {
      "model_module": "@jupyter-widgets/base",
      "model_module_version": "2.0.0",
      "model_name": "LayoutModel",
      "state": {
       "_model_module": "@jupyter-widgets/base",
       "_model_module_version": "2.0.0",
       "_model_name": "LayoutModel",
       "_view_count": null,
       "_view_module": "@jupyter-widgets/base",
       "_view_module_version": "2.0.0",
       "_view_name": "LayoutView",
       "align_content": null,
       "align_items": null,
       "align_self": null,
       "border_bottom": null,
       "border_left": null,
       "border_right": null,
       "border_top": null,
       "bottom": null,
       "display": null,
       "flex": null,
       "flex_flow": null,
       "grid_area": null,
       "grid_auto_columns": null,
       "grid_auto_flow": null,
       "grid_auto_rows": null,
       "grid_column": null,
       "grid_gap": null,
       "grid_row": null,
       "grid_template_areas": null,
       "grid_template_columns": null,
       "grid_template_rows": null,
       "height": null,
       "justify_content": null,
       "justify_items": null,
       "left": null,
       "margin": null,
       "max_height": null,
       "max_width": null,
       "min_height": null,
       "min_width": null,
       "object_fit": null,
       "object_position": null,
       "order": null,
       "overflow": null,
       "padding": null,
       "right": null,
       "top": null,
       "visibility": null,
       "width": null
      }
     },
     "501d3a48d7144457bbb88db7b8be6921": {
      "model_module": "@jupyter-widgets/controls",
      "model_module_version": "2.0.0",
      "model_name": "HTMLModel",
      "state": {
       "_dom_classes": [],
       "_model_module": "@jupyter-widgets/controls",
       "_model_module_version": "2.0.0",
       "_model_name": "HTMLModel",
       "_view_count": null,
       "_view_module": "@jupyter-widgets/controls",
       "_view_module_version": "2.0.0",
       "_view_name": "HTMLView",
       "description": "",
       "description_allow_html": false,
       "layout": "IPY_MODEL_049833e2cdbe4cc1920c3e769c5c034e",
       "placeholder": "​",
       "style": "IPY_MODEL_efa650bd538b4758864b7e6f0c486998",
       "tabbable": null,
       "tooltip": null,
       "value": "Loading checkpoint shards: 100%"
      }
     },
     "6fabbb9ac72940c583d6cf64e32d97c5": {
      "model_module": "@jupyter-widgets/controls",
      "model_module_version": "2.0.0",
      "model_name": "HTMLModel",
      "state": {
       "_dom_classes": [],
       "_model_module": "@jupyter-widgets/controls",
       "_model_module_version": "2.0.0",
       "_model_name": "HTMLModel",
       "_view_count": null,
       "_view_module": "@jupyter-widgets/controls",
       "_view_module_version": "2.0.0",
       "_view_name": "HTMLView",
       "description": "",
       "description_allow_html": false,
       "layout": "IPY_MODEL_3aa26a19cb8e496bb7c29ad76ff152f7",
       "placeholder": "​",
       "style": "IPY_MODEL_1b6ed22a7a804b2990eab1c982f945dc",
       "tabbable": null,
       "tooltip": null,
       "value": " 5/5 [03:11&lt;00:00, 37.47s/it]"
      }
     },
     "eee861ffd8584ed3b8f0c7ede1b0b0b4": {
      "model_module": "@jupyter-widgets/controls",
      "model_module_version": "2.0.0",
      "model_name": "FloatProgressModel",
      "state": {
       "_dom_classes": [],
       "_model_module": "@jupyter-widgets/controls",
       "_model_module_version": "2.0.0",
       "_model_name": "FloatProgressModel",
       "_view_count": null,
       "_view_module": "@jupyter-widgets/controls",
       "_view_module_version": "2.0.0",
       "_view_name": "ProgressView",
       "bar_style": "success",
       "description": "",
       "description_allow_html": false,
       "layout": "IPY_MODEL_1625995821f24928a9642cbccee1ec67",
       "max": 5.0,
       "min": 0.0,
       "orientation": "horizontal",
       "style": "IPY_MODEL_290432d632a943df9a524edade267e39",
       "tabbable": null,
       "tooltip": null,
       "value": 5.0
      }
     },
     "efa650bd538b4758864b7e6f0c486998": {
      "model_module": "@jupyter-widgets/controls",
      "model_module_version": "2.0.0",
      "model_name": "HTMLStyleModel",
      "state": {
       "_model_module": "@jupyter-widgets/controls",
       "_model_module_version": "2.0.0",
       "_model_name": "HTMLStyleModel",
       "_view_count": null,
       "_view_module": "@jupyter-widgets/base",
       "_view_module_version": "2.0.0",
       "_view_name": "StyleView",
       "background": null,
       "description_width": "",
       "font_size": null,
       "text_color": null
      }
     }
    },
    "version_major": 2,
    "version_minor": 0
   }
  }
 },
 "nbformat": 4,
 "nbformat_minor": 5
}
